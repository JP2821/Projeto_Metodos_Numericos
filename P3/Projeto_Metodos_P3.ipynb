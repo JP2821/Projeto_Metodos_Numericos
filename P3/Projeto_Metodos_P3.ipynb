{
  "nbformat": 4,
  "nbformat_minor": 0,
  "metadata": {
    "colab": {
      "name": "Projeto Metodos.ipynb",
      "provenance": [],
      "collapsed_sections": [],
      "toc_visible": true
    },
    "kernelspec": {
      "name": "python3",
      "display_name": "Python 3"
    },
    "language_info": {
      "name": "python"
    }
  },
  "cells": [
    {
      "cell_type": "markdown",
      "source": [
        "# **Resumo**"
      ],
      "metadata": {
        "id": "pTRfuC3M4d8a"
      }
    },
    {
      "cell_type": "markdown",
      "source": [
        "*(1)* A variante Ômicron do SARS-CoV-2 pode já ser o \n",
        "vírus de mais rápida propagação de toda a história. A informação foi dada pelo médico infectologista norte-americano Roby Bhattacharyya do Hospital Geral de Massachusetts. A nova cepa é dominante em várias nações do mundo e está levando à explosão do número de casos de covid-19.\n",
        "\n",
        "O médico e pesquisador fez um cálculo entre a Ômicron e o sarampo, um dos vírus mais contagiosos. Ele concluiu que, num cenário de ausência de vacinação, um caso de sarampo daria origem a mais 15 casos em apenas 12 dias. Já um caso de Ômicron daria origem a 216 casos no mesmo período. A estimativa significa que, em 35 dias, a Ômicron poderia atingir 280 mil pessoas, enquanto o sarampo afetaria 2.700.\n",
        "\n",
        "No entanto, num cenário em que a maioria da população está vacinada ou já teve covid-19, o especialista estima que um caso de Ômicron dê origem a apenas mais três casos, número semelhante ao do vírus original, ausente de mutações.\n",
        "\n",
        "Nesse sentido, tornou-se pertinente analisar nesse trabalho um cenário onde há persistencia viral numa dada população, tendo em vista suas variantes. Para efeito de simplicidade, trabalharemos, apenas, com a variante mais contagiosa e atual (ômicron), levando em conta os dados locais do estado de Pernambuco.\n",
        "\n",
        "Partiremos de tres premissas básicas para essa análise: O primeiro caso leva em conta a evolução da doença na taxa atual ao que ela se encontra com a presença da vacinação. Já o  segundo caso, é uma análise da doença, caso não houvessem vacinas, e o terceiro caso idealiza um sistema de vacinação mais eficiente e desconsidera a resistência à vacina como elemento profilático e mitigador, fazendo com que mais indivíduos consigam ser vacinados, diminuindo a taxa de infectados e por conseguinte, de óbitos.\n",
        "\n",
        "Para realizar essas análises, utilizaremos um modelo variante do SIR, o SIRV com acréscimo de um \"E\" que será a taxa de expostos ao vírus, no qual será analisado o número de indivíduos suscetíveis, infectados, removidos, vacinados e expostos, para estimar a evolução da doença mesmo na presença das  vacinas. Assim como a progressão da taxa de vacinados da população no território de Pernambuco. Dessa maneira, o modelo tentará evidenciar que as vacinas, mesmo ainda não tendo 100% de eficácia, são extremamente importantes para achatar a curva de contaminados e mortos, assim como para a mitigar os transtornos causados pelo vírus.\n",
        "\n",
        "> \n",
        "\n"
      ],
      "metadata": {
        "id": "XkspVIdE1_MM"
      }
    },
    {
      "cell_type": "markdown",
      "source": [
        "### **Introdução**"
      ],
      "metadata": {
        "id": "vF-BM6872IwK"
      }
    },
    {
      "cell_type": "markdown",
      "source": [
        "Coronavírus é um vírus\n",
        "zoonótico, um RNA vírus da ordem\n",
        "Nidovirales, da família\n",
        "Coronaviridae (2). Esta é uma família de\n",
        "vírus que causam infecções\n",
        "respiratórias, os quais foram isolados\n",
        "pela primeira vez em 1937 e descritos\n",
        "como tal em 1965, em decorrência do\n",
        "seu perfil na microscopia assemelhando-se a uma\n",
        "coroa(3).\n",
        "Tendo como parâmetro o ano de 2019,\n",
        "onde ainda não se tinha previsão da\n",
        "proporção da doença e quais as\n",
        "implicações que suas possíveis\n",
        "mutações; foi identificada pela primeira\n",
        "vez em em Wuhan, na província de Hubei,\n",
        "China por Dezembro de 2019. Este vírus\n",
        "causa síndrome respiratória aguda grave\n",
        "que podem se tornar potencialmente fatais.\n",
        "\n",
        "(4) Em 26 de novembro de 2021 (OMS 2021),\n",
        "a OMS designou a variante SARS-CoV-2\n",
        "B.1.1.529 como uma variante preocupante\n",
        "(VoC) com base no conselho do Grupo\n",
        "Consultivo Técnico da OMS sobre\n",
        "Evolução de Vírus (VOC). Esta variante\n",
        "recebeu o nome de Omicron. A África do\n",
        "Sul relatou o Omicron à OMS pela primeira\n",
        "vez em 24 de novembro de 2021. Na África\n",
        "do Sul, as infecções foram altas nas\n",
        "últimas semanas, coincidindo com a\n",
        "descoberta do Omicron. No Brasil, a variante Ômicron foi confirmada para o primeira vez no dia 30 de novembro em São Paulo, já em Pernambuco a variante foi detectada entre 26 de novembro de 2021 e 4 de janeiro deste ano."
      ],
      "metadata": {
        "id": "EMVvPc5K2MwC"
      }
    },
    {
      "cell_type": "markdown",
      "source": [
        "### **Objetivos**"
      ],
      "metadata": {
        "id": "No6ZHJ_Y2hyS"
      }
    },
    {
      "cell_type": "markdown",
      "source": [
        "Tendo em vista o cenário atual em que há muita resistencia à vacina por uma parcela da população e por setores expecíficos do governo, ainda que comprovada sua eficiencia e eficácia. Vamos aqui estabelecer um contraste, projetanto um cenário no qual a existência dela é quase nula ou nenhuma. Dessa manera, será observada a progressão da doênça ao longo do tempo e uma análise em cima do gráfico será efetuada para fins de comparação, caso dispuséssimos de uma maior taxa de vacinação.  "
      ],
      "metadata": {
        "id": "7s6NhphE2jkZ"
      }
    },
    {
      "cell_type": "markdown",
      "source": [
        "### **Métodologia**"
      ],
      "metadata": {
        "id": "TQL0-59h2mCq"
      }
    },
    {
      "cell_type": "markdown",
      "source": [
        "O modelo matemático SIR (suscetível, infectados e removidos) é largamente utilizado para simular uma pandemia, por ser um modelo simples. Então, esse trabalho contará com o suporte de uma variante desse modelo: O SIRV + E. Essa variante também leva em consideração a população dos vacinados + espostos. Vamos assumir aqui, que a população do estado de Pernambuco permanece constante ao longo do tempo, dessa maneira, as equações serão dadas da  seguinte forma:\n",
        "\n",
        "\n",
        "$N=S(t)+I(t)+R(t)+V(t)$\n",
        " \n",
        "$0=V′+I′+R′+V′$\n",
        " \n",
        "$\\frac{dS(t)}{dt} = −\\frac{β}{N}S(t)I(t)−γS(t)$\n",
        " \n",
        "$\\frac{dI(t)}{dt} = σE - (1-α)γI(t) - αλI(t)$\n",
        " \n",
        "$\\frac{dR(t)}{dt} = (1-α)γI(t) + α(1-ξ)λI(t)$\n",
        " \n",
        "$\\frac{dV(t)}{dt} = γI(t) + γR(t)(1-ξ)$\n",
        "\n",
        "$\\frac{dE(t)}{dt} = \\frac{β}{N}S(t)I(t) - σE$\n",
        "\n",
        "$\\frac{dD(t)}{dt}= \\xi \\alpha λ I(t)$\n",
        "\n",
        "Em que:\n",
        "\n",
        "* N é a população total\n",
        "* S(t): representa a população suscetível a ter a doença no tempo t, ou seja, é a população que não foi infectada e que não possui imunização.\n",
        "* I(t): representa a população infectada com o vírus no tempo t, esses são os indivíduos que estão infectados e podem espalhar a doença para a população que está no estado suscetível.\n",
        "* R(t): representa a população removida no tempo t, dizer que uma população foi removida nesse modelo significa que ou ficou recuperada da doença.\n",
        "* V(t): representa a população efetivamente vacinada no tempo t. São os indivíduos que foram vacinados e ganharam imunidade total à doença.\n",
        "* D(t): é a quantidade de mortos pelo Covid-19.\n",
        "* E(t): é a taxa de exposição da popiulação ao vírus.\n",
        "* β: Representa a taxa de transmissão por dia da doença, o qual é calculado sendo a quantidade de contatos que um indivíduo tem com outros vezes a probabilidade de transmissão de um indivíduo infectado com outro suscetível. Tal parâmetro pode ser modificado utilizando técnicas de combate a pandemia como o distanciamento social\n",
        "* γ: Representa a taxa de recuperação dos indivíduos infectados por dia, a taxa 1/γ representa a média do período de infecção da doença.\n",
        "* δ: Representa a taxa de vacinação e a eficácia da vacina, é calculada fazendo a fração de indivíduos que ganharam imunização total com todos os que foram vacinados, multiplicado pela taxa de vacinação de Pernambuco.\n",
        "* ξ: Taxa de mortalidade por dia do Covid-19\n",
        "* σ: taxa de incubação do vírus (1 / periodo_de_incubacao)\n",
        "\n",
        "\n"
      ],
      "metadata": {
        "id": "YPpapllO2o8R"
      }
    },
    {
      "cell_type": "markdown",
      "source": [
        "### **Modelos e bibliotecas usados para a simulação**"
      ],
      "metadata": {
        "id": "L-oc4sGd2xYx"
      }
    },
    {
      "cell_type": "markdown",
      "source": [
        "### **Análise das condições atuais no estado de Pernambuco com a variante ômicron**"
      ],
      "metadata": {
        "id": "NR7-Xvk820s_"
      }
    },
    {
      "cell_type": "code",
      "source": [
        "#pacotes necessário para análise\n",
        "from scipy.integrate import odeint\n",
        "import numpy as np\n",
        "import plotly.graph_objects as go\n",
        "\n",
        "#Solução numérica do modelo SIR\n",
        "def SIR(t, alfa, beta, gama, sigma, Lambda, delta, csi, N, i0, r0, v0, d0, e0): \n",
        "    def dotSIR(y, t, alfa, beta, gama, sigma, Lambda, delta, csi, N): # função que define o sistema de EDO's\n",
        "      S,E,I,R,D,V = y # # y é o vetor com as % equações S,I,R,V\n",
        "      # S = -beta * S * I / N - (gama*S)\n",
        "      # E = beta * I * S/N - sigma * E\n",
        "      # I = sigma * E - (1-alfa) * gama * I - alfa * Lambda * I\n",
        "      # R = (1-alfa) * gama * I + alfa * (1-csi) * Lambda * I\n",
        "      # D = alfa * csi * Lambda * I\n",
        "      # V = alfa * S + alfa * R * (1-csi)\n",
        "      #       [-------------S---------------] [-------------E----------]  [-----------------------I----------------------] [--------------------R-------------------] [--D--] [-----------V----------]\n",
        "      dydt = [(-beta * S * I / N) - (gama*S), ((beta*I*S/N) - sigma * E),  sigma * E - ((1-alfa)*gama*I) - (alfa*Lambda*I),((1-alfa)*gama*I + alfa*(1-csi)*Lambda*I) ,(gama*alfa*csi*I),gama*S + gama*R*(1-csi)] #vetor em que cada elemento é uma das equações\n",
        "      return dydt\n",
        "    #S = Pessoas que suscetíveis, ou seja, que podem ser infectadas.\n",
        "    #E = Pessoas Expostas,que não esquema vacinal.\n",
        "    #I = Pessoas que foram infectadas.\n",
        "    #R = Pessoas que se recuperaram.\n",
        "    #D = Pessoas que vinhierama obito na pandemia.\n",
        "    #V = Representa a taxa de vacinação por dia.\n",
        "    #alfa = probabilidade de uma pessoa ser hospitalizada \n",
        "    #delta = Representa a eficácia da vacina. É calculada operando a fração de indivíduos que ganharam imunização total em virtude da vacinação, com todos os que foram vacinados.\n",
        "    #beta = Taxa de transmissão da doença.\n",
        "    #gama = Tempo médio de infecção\n",
        "    #N = População total.\n",
        "\n",
        "    # Como se trata de um sistema de EDO's precisamos das condições iniciais para resolvê-lo.\n",
        "    #Como esse modelo considera a populção constante vamos considerar s0 = N - i0 - r0\n",
        "    # N = população total.\n",
        "    #s0 = número inicial de pessoas Suscetíveis.\n",
        "    #i0 = número inicial de pessoas Infectadas.\n",
        "    #r0 = número inicial de pessoas Recuperadas.\n",
        "    #v0 = número inicial de pessoas Vacinadas.\n",
        "    #d0 = numero inicial de pessoas mortas \n",
        "    \n",
        "    s0 = N - i0 - r0 - v0 - d0 - e0\n",
        "    y0 = [s0,i0,r0,v0,d0,e0] #vetor que armazena as condições iniciais do sistema\n",
        "\n",
        "    sol = odeint(dotSIR, y0,t, args=(alfa, beta, gama, sigma, Lambda, delta, csi, N)) \n",
        "    #O comando responsável por encontrar a solução numérica é o odeint\n",
        "    # O comando retorna uma matriz com as colunas determinadas pelo número de equações, nesse caso 3 \n",
        "    # e com o número de linhas referentes ao intervalo de tempo considerado.\n",
        "    S = sol[:,0]\n",
        "    # a primeira coluna da matriz sol é referente aos Suscetíves, que é a primeira equação do sistema.\n",
        "    E = sol[:,1]\n",
        "    # a segunda coluna da matriz é referente aos Expostas, que é a segunda equação do sistema.\n",
        "    I = sol[:,2] \n",
        "    # a terceira coluna da matriz é referente aos Infectadas, que é a terceira equação do sistema.\n",
        "    R = sol[:,3] \n",
        "    # a quarta coluna da matriz é referente aos Recuperados, que é a quarta equação do sistema.\n",
        "    D = sol[:,4]\n",
        "    # a quinta coluna da matriz é referente aos Mortos, que é a quinta equação do sistema.\n",
        "    V = sol[:,5]\n",
        "    # a sexta coluna da matriz é referente aos Vacinados, que é a sexta equação do sistema.\n",
        "    C = sol[:,2] + sol[:,3] \n",
        "    # variável que armazena a soma dos Infectados + Recuperados com o tempo para podermos analisar o\n",
        "    # valor acumulado de pessoas infectadas no decorrer da epidemia\n",
        "\n",
        "    return S,E,I,R,C,D,V"
      ],
      "metadata": {
        "id": "ZJOYvCJ93W3V"
      },
      "execution_count": null,
      "outputs": []
    },
    {
      "cell_type": "code",
      "source": [
        "#Parâmetros para gerar a solução:\n",
        "alfa = 0.2      # probabilidade de uma pessoa ser hospitalizada\n",
        "beta = 2.2     # probabilidade de uma pessoa exposta se torna infectada\n",
        "gama = 1/20     # 1 / (tempo medio de infecção)\n",
        "sigma = 1/5.1   # taxa de incubação do vírus (1 / periodo_de_incubacao)\n",
        "csi = 0.024     # taxa de mortalidade\n",
        "Lambda = 1 / 14 # Tempo internado (em dias)\n",
        "delta = 0.94    # Eficácia da vacina \n",
        "N = 9674793     # População total\n",
        "i0 = 648856     # número inicial de infectados total acumulado (8)\n",
        "e0 = 0          # pessoas expostas inicialmente\n",
        "r0 = 0          # número inicial de recuperados\n",
        "v0 = 0          # número inicial de vacinados\n",
        "d0 = 20500      # número inicial de pessoas mortas\n",
        "t = np.arange(152) \n",
        "#gera um vetor (0,1,2,3..,151) que representa o valores de t usados para gerar a solução.\n",
        "\n",
        "solucao = SIR(t,alfa,beta,gama,sigma,Lambda,delta,csi,N,i0,r0,v0,d0,e0) \n",
        "#variável que armazenará S,I,R,C que são os valores retornados pela função SIR,\n",
        "#como a função retorna um array com cada elemento sendo S,I,R,C para analisar cada solução separadamente  \n",
        "#vamos definir as seguintes variáveis\n",
        "S = solucao[0]  #Suscetíves\n",
        "E = solucao[1]  #Expostas\n",
        "I = solucao[2]  #Infectados\n",
        "R = solucao[3]  #Recuperados\n",
        "C = solucao[4]  #Casos Acumulados\n",
        "D = solucao[5]  #Numero de mortes\n",
        "V = solucao[6]  #Numero de Vacinas Aplicadas\n",
        "\n",
        "#cada uma das variáveis trace abaixo armazena o conjunto de pontos gerada pela função SIR que queremos plotar. \n",
        "#Veja que como queremos plotar 4 conjuntos de dados diferentes S,I,R,C armazenamos cada um deles em uma varíavel.\n",
        "trace1 = go.Scatter(x=t, y=S,mode='lines',name='Suscetíveis',) \n",
        "\n",
        "trace2 = go.Scatter(x=t, y=I, mode='lines',name='Infectados',)\n",
        "\n",
        "trace3 = go.Scatter(x=t, y=R, mode='lines', name='Recuperados',)\n",
        "\n",
        "trace4 = go.Scatter(x=t, y=C,mode='lines',name='Casos acumulados',)\n",
        "\n",
        "trace5 = go.Scatter(x=t, y=E,mode='lines',name='Expostos',)\n",
        "\n",
        "trace6 = go.Scatter(x=t, y=D,mode = 'lines',name='Mortes',)\n",
        "\n",
        "trace7 = go.Scatter(x=t, y=V,mode = 'lines',name = 'Vacinados')\n",
        "\n",
        "layout = go.Layout( title = 'Modelo SIRV com exposição', #define o título do gráfico \n",
        "                  titlefont = {'family': 'Arial', 'size': 22,'color': '#7f7f7f'}, #define a fonte e cor e fonte do título\n",
        "                  xaxis = {'title': 'Dias'}, #título do eixo x\n",
        "                  yaxis = {'title': 'População em 1º de Janeiro de 2022'},  #título do eixo y\n",
        "                       )\n",
        "\n",
        "data=[trace1,trace2,trace3,trace4,trace5,trace6,trace7] #vetor que armazena os pontos que queremos plotar\n",
        "\n",
        "fig = go.Figure(data, layout = layout) #função que gera a figura\n",
        "       \n",
        "fig.update_layout(\n",
        "legend_orientation=\"h\", #define a localização da legenda\n",
        "legend=dict(\n",
        "         y=-0.15,       #coloca um recuo na legenda para que ela fique mais longe do título do eixo x.\n",
        "        ))\n",
        "\n",
        "fig.show() #mostra a figura\n",
        "\n",
        "R0 = beta/gama\n",
        "#Caso deseje que o R0 seja printado adicione o seguinte comando:\n",
        "#print('Para essas condições o R0 é:%f' %R0)"
      ],
      "metadata": {
        "colab": {
          "base_uri": "https://localhost:8080/",
          "height": 542
        },
        "id": "gDjvJ72J5xrs",
        "outputId": "2ac10668-8445-47dc-f458-aa7cabfbb091"
      },
      "execution_count": null,
      "outputs": [
        {
          "output_type": "display_data",
          "data": {
            "text/html": [
              "<html>\n",
              "<head><meta charset=\"utf-8\" /></head>\n",
              "<body>\n",
              "    <div>            <script src=\"https://cdnjs.cloudflare.com/ajax/libs/mathjax/2.7.5/MathJax.js?config=TeX-AMS-MML_SVG\"></script><script type=\"text/javascript\">if (window.MathJax) {MathJax.Hub.Config({SVG: {font: \"STIX-Web\"}});}</script>                <script type=\"text/javascript\">window.PlotlyConfig = {MathJaxConfig: 'local'};</script>\n",
              "        <script src=\"https://cdn.plot.ly/plotly-2.8.3.min.js\"></script>                <div id=\"f2c53768-0830-4c6e-8028-7da2d06cd9a0\" class=\"plotly-graph-div\" style=\"height:525px; width:100%;\"></div>            <script type=\"text/javascript\">                                    window.PLOTLYENV=window.PLOTLYENV || {};                                    if (document.getElementById(\"f2c53768-0830-4c6e-8028-7da2d06cd9a0\")) {                    Plotly.newPlot(                        \"f2c53768-0830-4c6e-8028-7da2d06cd9a0\",                        [{\"mode\":\"lines\",\"name\":\"Suscet\\u00edveis\",\"x\":[0,1,2,3,4,5,6,7,8,9,10,11,12,13,14,15,16,17,18,19,20,21,22,23,24,25,26,27,28,29,30,31,32,33,34,35,36,37,38,39,40,41,42,43,44,45,46,47,48,49,50,51,52,53,54,55,56,57,58,59,60,61,62,63,64,65,66,67,68,69,70,71,72,73,74,75,76,77,78,79,80,81,82,83,84,85,86,87,88,89,90,91,92,93,94,95,96,97,98,99,100,101,102,103,104,105,106,107,108,109,110,111,112,113,114,115,116,117,118,119,120,121,122,123,124,125,126,127,128,129,130,131,132,133,134,135,136,137,138,139,140,141,142,143,144,145,146,147,148,149,150,151],\"y\":[9005437.0,8449236.833418977,7708669.288250008,6792404.8194568325,5702353.710175549,4476107.8146271,3215670.2819995773,2073814.3646056403,1186681.2383260506,602436.5860385287,274389.9136011572,114248.46232976657,44434.63555715928,16482.389239387303,5938.4516397778525,2109.9223208313792,748.3406231057609,267.5145220120168,97.10566450384633,35.995771797395165,13.683586065534548,5.350738156297624,2.1567920094189814,0.8973718056532708,0.38568701659158877,0.17128506142809002,0.07859376632942323,0.037245864025515135,0.018219259130704626,0.009192111581259977,0.0047791172755695735,0.0025580342907100895,0.0014081345544081866,0.000796340460444868,0.0004621663337730223,0.00027496164899302664,0.0001675136461280923,0.00010439325032519386,6.647922238169326e-05,4.321646275094448e-05,2.8650812681966107e-05,1.9352443740298318e-05,1.3306002371320807e-05,9.304572237013333e-06,6.6116231865205775e-06,4.77014290530897e-06,3.4916504981429183e-06,2.5911517331015584e-06,1.9480741949172878e-06,1.482798730719253e-06,1.1419399080948708e-06,8.892566814943498e-07,6.998133489112808e-07,5.562510583367999e-07,4.4634143296396983e-07,3.613736260661686e-07,2.950768877001341e-07,2.4289005704386833e-07,2.014637971656995e-07,1.6831500839143763e-07,1.4158671823888406e-07,1.1987800624358725e-07,1.0212348970686279e-07,8.750651007991163e-08,7.539637696462474e-08,6.530249309917643e-08,5.6840592916116036e-08,4.970769641075561e-08,4.366339270063461e-08,3.8515750203174926e-08,3.411064062668678e-08,3.0323594805517146e-08,2.705354958856776e-08,2.421801884457351e-08,2.1749340988521722e-08,1.9591746813848178e-08,1.7699055907392716e-08,1.603285691861308e-08,1.4561062934672692e-08,1.3256758947998833e-08,1.2097277843807854e-08,1.1063456308816688e-08,1.0139032903750944e-08,9.310159012338065e-09,8.56499989766407e-09,7.893407913465383e-09,7.286653781148195e-09,6.737204795224147e-09,6.238541073894086e-09,5.785002801133178e-09,5.371662787138916e-09,4.994219815974002e-09,4.6489090762375444e-09,4.332426724706935e-09,4.041866149057019e-09,3.7746639615641424e-09,3.5285541049022485e-09,3.3015287426885012e-09,3.091804850167014e-09,2.8977955876154518e-09,2.7180857188323515e-09,2.551410446673424e-09,2.396637148648344e-09,2.2527495785302736e-09,2.1188341667287265e-09,1.994068122277718e-09,1.8777090676659216e-09,1.7690859974201917e-09,1.6675913717002172e-09,1.5726741900534979e-09,1.4838339117640452e-09,1.400615109219797e-09,1.3226027573453665e-09,1.2494180759232384e-09,1.1807148534838497e-09,1.1161761914028255e-09,1.055511615330292e-09,9.984545082994472e-10,9.447598260200064e-10,8.94202060255503e-10,8.465734199677248e-10,8.016822050907977e-10,7.593513506751689e-10,7.194171220508715e-10,6.81727939712816e-10,6.461433249722979e-10,6.12532950111694e-10,5.807757813420604e-10,5.507593048785333e-10,5.223788270090682e-10,4.955368402048777e-10,4.701424487819094e-10,4.4611084726115607e-10,4.233628462305725e-10,4.018244408935845e-10,3.8142641775052236e-10,3.621039960219327e-10,3.437965000604799e-10,3.264470597510428e-10,3.10002336248988e-10,2.9441227056725467e-10,2.7962985288616e-10,2.6561091061014113e-10,2.523139122971061e-10,2.3969979310063814e-10,2.2773178311271858e-10,2.1637525899599297e-10,2.055976019303633e-10,1.9536806591021456e-10,1.8565766101237133e-10,1.7643903692827775e-10,1.6768638543989014e-10],\"type\":\"scatter\"},{\"mode\":\"lines\",\"name\":\"Infectados\",\"x\":[0,1,2,3,4,5,6,7,8,9,10,11,12,13,14,15,16,17,18,19,20,21,22,23,24,25,26,27,28,29,30,31,32,33,34,35,36,37,38,39,40,41,42,43,44,45,46,47,48,49,50,51,52,53,54,55,56,57,58,59,60,61,62,63,64,65,66,67,68,69,70,71,72,73,74,75,76,77,78,79,80,81,82,83,84,85,86,87,88,89,90,91,92,93,94,95,96,97,98,99,100,101,102,103,104,105,106,107,108,109,110,111,112,113,114,115,116,117,118,119,120,121,122,123,124,125,126,127,128,129,130,131,132,133,134,135,136,137,138,139,140,141,142,143,144,145,146,147,148,149,150,151],\"y\":[0.0,119795.20744771814,252375.81281775644,430859.6445951903,681871.3418985553,1023950.6938201522,1459656.5099057308,1967444.5772074056,2502632.3834071504,3011686.3907514527,3451311.628553423,3799046.700405137,4051675.789390558,4217651.39762164,4310079.829184543,4342560.492441396,4327378.078804735,4274982.8541013645,4194021.3925016513,4091551.219055171,3973289.213211544,3843841.6912399987,3706902.476969019,3565418.6515856143,3421727.650847916,3277670.095938187,3134682.4374864777,2993872.929875767,2856083.8836157564,2721942.6385009442,2591903.272117246,2466280.7017167346,2345278.5427637007,2229011.844600248,2117525.6238782937,2010809.9520037465,1908812.2180133555,1811447.0768666838,1718604.5024755902,1630156.2892471622,1545961.2846289012,1465869.5846715108,1389725.8825971554,1317372.1264806518,1248649.6143765508,1183400.6312664133,1121469.7141956992,1062704.6161403533,1006957.0260867502,954083.0925766618,903943.789342904,856405.1545768287,811338.4295550705,768620.1176150013,728131.9805500449,689760.9863464831,653399.2195076476,618943.7631020686,586296.5599161112,555364.2586324974,526058.0498063827,498293.4954416303,471990.35518334236,447072.41151624394,423467.29583147855,401106.3168048352,379924.29219166096,359859.384862141,340852.94368075015,322849.3496549916,305795.8676325104,289642.50371360214,274341.8684548796,259849.04586788127,246121.4681620727,233118.79613823042,220802.80510588645,209137.2761748493,198087.89275312636,187622.14207189187,177709.22155060657,168319.94981113484,159426.68214840183,151003.23026578777,143024.78608582783,135467.8494503978,128310.15952911954,121530.62976001565,115109.28615213177,109027.20878598311,103266.47635388495,97810.11358873945,92642.0414360147,87747.02983021326,83110.65294322472,78719.24677812241,74559.86898787162,70620.26080415178,66888.81096728264,63354.52155316911,60006.97559876344,56836.306432220495,53833.16861874621,50988.71043767208,48294.54781033725,45742.73960319971,43325.76423338547,41036.4975087071,38868.19163701478,36814.455343457965,34869.235037300925,33026.79697302621,31281.710353335788,29628.83132440142,28063.287816322136,26580.465184208977,25175.992607662178,23845.73020862373,22585.756849692592,21392.358577032614,20262.01767355131,19191.40229040167,18177.35662677236,17216.891629564936,16307.1761805606,15445.528752265773,14629.409504421117,13856.412797554003,13124.260102206945,12430.793282640858,11773.968235053462,11151.848862875726,10562.601369862066,10004.488854715742,9475.866191486162,8975.175179823595,8500.939952263041,8051.762624002014,7626.319172395403,7223.355534260539,6841.683909212932,6480.179258275436,6137.775987276862,5813.464799008458,5506.289745231616,5215.345372426771,4939.774078318509,4678.763574132453,4431.544483414286,4197.388095467896,3975.6041861455356,3765.5390236633307],\"type\":\"scatter\"},{\"mode\":\"lines\",\"name\":\"Recuperados\",\"x\":[0,1,2,3,4,5,6,7,8,9,10,11,12,13,14,15,16,17,18,19,20,21,22,23,24,25,26,27,28,29,30,31,32,33,34,35,36,37,38,39,40,41,42,43,44,45,46,47,48,49,50,51,52,53,54,55,56,57,58,59,60,61,62,63,64,65,66,67,68,69,70,71,72,73,74,75,76,77,78,79,80,81,82,83,84,85,86,87,88,89,90,91,92,93,94,95,96,97,98,99,100,101,102,103,104,105,106,107,108,109,110,111,112,113,114,115,116,117,118,119,120,121,122,123,124,125,126,127,128,129,130,131,132,133,134,135,136,137,138,139,140,141,142,143,144,145,146,147,148,149,150,151],\"y\":[0.0,3262.3529678662553,13161.710247871484,31318.722802519012,60953.78721831978,106529.88743486477,173122.07811127804,265317.08204096655,385879.6339356711,534838.56267989,709535.689862101,905521.5616662316,1117681.5669439265,1341078.830294244,1571383.3274247367,1804997.8281634492,2039027.674967305,2271192.073351232,2499724.5594712,2723281.121757689,2940861.1963174082,3151741.6849321174,3355422.540538217,3551582.153684648,3740040.8877166435,3920731.335457051,4093674.1007029316,4258958.113108055,4416724.659183746,4567154.457198424,4710457.223634464,4846863.277615741,4976616.810952035,5099970.518226563,5217181.336222951,5328507.087097647,5434203.85667401,5534523.969769986,5629714.4492996,5720015.866559193,5805661.506866108,5886876.788505707,5963878.884407249,6036876.5052021,6106069.809877524,6171650.416744075,6233801.492314298,6292697.899980075,6348506.393889299,6401385.846179704,6451487.498037653,6498955.226941379,6543925.823992595,6586529.276491932,6626889.051942399,6665122.380485492,6701340.533465916,6735649.096359847,6768148.234745328,6798932.952356893,6828093.340547754,6855714.818715812,6881878.3654339975,6906660.74016814,6930134.695581658,6952369.180514742,6973429.533793311,6993377.66907587,7012272.250984049,7030168.862790161,7047120.165954351,7063176.0518154595,7078383.785746326,7092788.144086334,7106431.544162643,7119354.167707592,7131594.0779737905,7143187.330840957,7154168.080199914,7164568.677889772,7174419.768454531,7183750.378974976,7192588.004221469,7200958.687362922,7208887.096456774,7216396.596934855,7223509.320290033,7230246.229158826,7236627.178986011,7242670.9764480395,7248395.434803549,7253817.426330718,7258952.932003486,7263817.088550711,7268424.233035237,7272787.945082709,7276921.086883452,7280835.841084308,7284543.746681119,7288055.733017251,7291382.151987591,7294532.808542583,7297516.989581806,7300343.491321909,7303020.645219567,7305556.342525108,7307958.0575396735,7310232.869643854,7312387.484162826,7314428.252129329,7316361.189002682,7318191.992398935,7319926.058884382,7321568.499881877,7323124.156736808,7324597.614987129,7325993.217879444,7327315.079171014,7328567.095255364,7329752.956647211,7330876.158860813,7331940.012713537,7332947.654084499,7333902.053156523,7334806.02317362,7335662.228732694,7336473.193637328,7337241.308337113,7337968.836973777,7338657.924055182,7339310.600777018,7339928.791009532,7340514.316968462,7341068.904586322,7341594.188599712,7342091.717368476,7342562.957439429,7343009.29786914,7343432.054318425,7343832.472930415,7344211.734003878,7344570.955472518,7344911.196200627,7345233.459111066,7345538.694114632,7345827.800946298,7346101.631791993,7346360.9938103175,7346606.651518564,7346839.329025095,7347059.712194789,7347268.450630629],\"type\":\"scatter\"},{\"mode\":\"lines\",\"name\":\"Casos acumulados\",\"x\":[0,1,2,3,4,5,6,7,8,9,10,11,12,13,14,15,16,17,18,19,20,21,22,23,24,25,26,27,28,29,30,31,32,33,34,35,36,37,38,39,40,41,42,43,44,45,46,47,48,49,50,51,52,53,54,55,56,57,58,59,60,61,62,63,64,65,66,67,68,69,70,71,72,73,74,75,76,77,78,79,80,81,82,83,84,85,86,87,88,89,90,91,92,93,94,95,96,97,98,99,100,101,102,103,104,105,106,107,108,109,110,111,112,113,114,115,116,117,118,119,120,121,122,123,124,125,126,127,128,129,130,131,132,133,134,135,136,137,138,139,140,141,142,143,144,145,146,147,148,149,150,151],\"y\":[0.0,123057.5604155844,265537.5230656279,462178.3673977093,742825.1291168751,1130480.5812550168,1632778.588017009,2232761.659248372,2888512.0173428217,3546524.9534313427,4160847.318415524,4704568.262071369,5169357.356334484,5558730.227915884,5881463.15660928,6147558.320604846,6366405.75377204,6546174.927452596,6693745.9519728515,6814832.34081286,6914150.409528952,6995583.376172116,7062325.017507236,7117000.805270262,7161768.538564559,7198401.431395238,7228356.538189409,7252831.042983822,7272808.542799503,7289097.095699368,7302360.49575171,7313143.979332475,7321895.3537157355,7328982.362826811,7334706.960101245,7339317.039101393,7343016.074687365,7345971.04663667,7348318.95177519,7350172.155806355,7351622.791495008,7352746.373177217,7353604.767004404,7354248.631682752,7354719.424254075,7355051.048010488,7355271.206509997,7355402.516120428,7355463.419976049,7355468.938756366,7355431.2873805575,7355360.3815182075,7355264.253547666,7355149.394106933,7355021.032492444,7354883.366831975,7354739.752973564,7354592.859461916,7354444.79466144,7354297.21098939,7354151.390354137,7354008.314157442,7353868.72061734,7353733.151684384,7353601.991413136,7353475.497319577,7353353.825984972,7353237.053938011,7353125.1946648,7353018.212445152,7352916.033586862,7352818.555529062,7352725.654201206,7352637.189954216,7352553.012324716,7352472.963845823,7352396.883079677,7352324.607015806,7352255.97295304,7352190.819961663,7352128.990005137,7352070.3287861105,7352014.686369871,7351961.91762871,7351911.882542602,7351864.446385253,7351819.4798191525,7351776.858918842,7351736.465138143,7351698.185234022,7351661.911157434,7351627.539919457,7351594.973439501,7351564.118380925,7351534.885978461,7351507.191860831,7351480.955871323,7351456.10188846,7351432.557648402,7351410.25457042,7351389.1275863545,7351369.114974803,7351350.158200552,7351332.201759581,7351315.193029905,7351299.082128308,7351283.821773059,7351269.367152561,7351255.675799841,7351242.707472787,7351230.424039983,7351218.789371962,7351207.769237718,7351197.331206278,7351187.44455313,7351178.080171338,7351169.210487107,7351160.809379638,7351152.852105056,7351145.315224243,7351138.176534364,7351131.415003939,7351125.010711271,7351118.944786088,7351113.19935418,7351107.757484959,7351102.603141749,7351097.721134667,7351093.097075984,7351088.7173378235,7351084.569012071,7351080.6398724085,7351076.918338325,7351073.393441037,7351070.054791198,7351066.892548299,7351063.897391692,7351061.060493142,7351058.373490821,7351055.828464675,7351053.417913091,7351051.134730794,7351048.972187904,7351046.923910074,7351044.983859863,7351043.146318724,7351041.405870312,7351039.75738445,7351038.196001978,7351036.717120564,7351035.316380935,7351033.989654292],\"type\":\"scatter\"},{\"mode\":\"lines\",\"name\":\"Expostos\",\"x\":[0,1,2,3,4,5,6,7,8,9,10,11,12,13,14,15,16,17,18,19,20,21,22,23,24,25,26,27,28,29,30,31,32,33,34,35,36,37,38,39,40,41,42,43,44,45,46,47,48,49,50,51,52,53,54,55,56,57,58,59,60,61,62,63,64,65,66,67,68,69,70,71,72,73,74,75,76,77,78,79,80,81,82,83,84,85,86,87,88,89,90,91,92,93,94,95,96,97,98,99,100,101,102,103,104,105,106,107,108,109,110,111,112,113,114,115,116,117,118,119,120,121,122,123,124,125,126,127,128,129,130,131,132,133,134,135,136,137,138,139,140,141,142,143,144,145,146,147,148,149,150,151],\"y\":[648856.0,644773.4173293179,838122.4039546124,1194364.033839172,1690523.0154343578,2273954.03391672,2839531.718911779,3249405.1575730187,3399754.059057092,3281532.9004858783,2973116.779737836,2579092.9975451897,2179055.3072693585,1814801.1140828817,1500630.992128478,1236694.4158232266,1017655.4257590882,836868.1086926471,688006.5606744888,565557.2983379212,464877.4667071216,382112.04816742026,314078.84375868033,258157.46659307778,212192.38383119373,174411.2359954252,143357.00346841983,117832.00328355061,96851.76769667877,79607.10156832209,65432.882924434634,53782.41375625283,44206.33576576613,36335.2994124617,29865.71842886856,24548.06067288618,20177.223681996384,16584.62395167771,13631.694612579322,11204.540916008855,9209.547356845542,7569.766858771971,6221.952935756788,5114.120332072744,4203.539809602349,3455.090163647965,2839.9036425199993,2334.2524586930567,1918.6335999417886,1577.0166062949709,1296.2252798917687,1065.4294756826473,875.7273803706282,719.8021655001744,591.6397835671834,486.29699996973545,399.7107335541788,328.5413454923364,270.0438257520318,221.96191978588212,182.44110469171363,149.9570588077907,123.2568697818235,101.31070909754663,83.27211119945903,68.44532595418853,56.25848294592163,46.2415344706879,38.0081260661565,31.240694405306016,25.678219028552743,21.106154831956353,17.348156859309693,14.25927880810142,11.720382399834268,9.633542152761828,7.918268471789226,6.508403102735147,5.349567401887576,4.397064987716902,3.614157755214066,2.9706488990967714,2.441718233834414,2.0069648532672737,1.6496202813991436,1.3559017095667558,1.1144803839222994,0.9160446641963931,0.752940867887389,0.6188780694044532,0.5086854487012933,0.4181128711081743,0.3436669426502336,0.28247627785208035,0.2321807465982046,0.19084044744104042,0.15686088241053656,0.12893145318106558,0.10597492156370172,0.08710585106123037,0.07159646077120112,0.058848551727436985,0.04837043622481221,0.03975797392682159,0.03267897836172276,0.026860413964695806,0.022077857868845863,0.018146846180386946,0.014915760157249384,0.012259975977883492,0.010077060073481237,0.008282817252501956,0.006808043255796872,0.0055958560891690955,0.0045995015227684585,0.003780550077187324,0.003107414773584369,0.0025541326876769425,0.002099363705263803,0.001725567552822835,0.001418326675728094,0.0011657902700280731,0.0009582178671933587,0.0007876046387732197,0.0006473697308161595,0.0005321039636422402,0.00043736151731867313,0.0003594882207463225,0.00029548041762081053,0.00024286941913666696,0.0001996259490649369,0.00016408206539351682,0.0001348668330180441,0.00011085344869666692,9.111572401620033e-05,7.48923530704278e-05,6.15575897174192e-05,5.059710948127061e-05,4.1588163884946245e-05,3.418328663595482e-05,2.8096872033451637e-05,2.309415747415201e-05,1.898216398247066e-05,1.5602031022729013e-05,1.2823881366451697e-05,1.0540490355447506e-05,8.663838765554182e-06,7.121589993727193e-06,5.853854611761246e-06,4.811765069553577e-06,3.955030747895843e-06,3.2510082295596435e-06],\"type\":\"scatter\"},{\"mode\":\"lines\",\"name\":\"Mortes\",\"x\":[0,1,2,3,4,5,6,7,8,9,10,11,12,13,14,15,16,17,18,19,20,21,22,23,24,25,26,27,28,29,30,31,32,33,34,35,36,37,38,39,40,41,42,43,44,45,46,47,48,49,50,51,52,53,54,55,56,57,58,59,60,61,62,63,64,65,66,67,68,69,70,71,72,73,74,75,76,77,78,79,80,81,82,83,84,85,86,87,88,89,90,91,92,93,94,95,96,97,98,99,100,101,102,103,104,105,106,107,108,109,110,111,112,113,114,115,116,117,118,119,120,121,122,123,124,125,126,127,128,129,130,131,132,133,134,135,136,137,138,139,140,141,142,143,144,145,146,147,148,149,150,151],\"y\":[20500.0,20514.514706001108,20558.558456611303,20639.34177518071,20771.192697369654,20973.96771951954,21270.24653396968,21680.436170097535,22216.83735437482,22879.5783509063,23656.83251845427,24528.80355826079,25472.735785131892,26466.664287326104,27491.324126254138,28530.710676150946,29571.94516404945,30604.87998736777,31621.65587900323,32616.293126464298,33584.34006836136,34522.57953041832,35428.786726970895,36301.53076851223,37140.012424163055,37943.93178910978,38713.380532788484,39448.75431679433,40150.681746368384,40819.96686465403,41457.54273227201,42064.43407413787,42641.72733686289,43190.54679719448,43712.03560607672,44207.34085361243,44677.601904693714,45123.9413909258,45547.45835493468,45949.22313511507,46330.27365342972,46691.61283021607,47034.20690096446,47358.98445111104,47666.83601852289,47958.61414229356,48235.13375817803,48497.172860080835,48745.47336264306,48980.7421122402,49203.652003981086,49414.843170713764,49614.92421691621,49804.47347591749,49984.04027347254,50154.146184363424,50315.286271776335,50467.93030160102,50612.52392577372,50749.48983040144,50879.2288456574,51002.12101547291,51118.526625871615,51228.78719142606,51333.226399833664,51432.15101500205,51525.85173933466,51614.604036142664,51698.66891327652,51778.29366919354,51853.71260276304,51925.14768816203,51992.80921624427,52056.89640377397,52117.597971910094,52175.092695309235,52229.549923188504,52281.13007365683,52329.98510258439,52376.25894823842,52420.08795286976,52461.601262388685,52500.92120522266,52538.16365140284,52573.43835287972,52606.84926602373,52638.494857222606,52668.46839244393,52696.858211590305,52723.74798843407,52749.216976880205,52773.34024426803,52796.18889238839,52817.83026685698,52838.3281554534,52857.74297600358,52876.13195435435,52893.54929295985,52910.046330572775,52925.67169350896,52940.47143892785,52954.48919054963,52967.76626720719,52980.341804610194,52992.252870680284,53003.53457479392,53014.22017125703,53024.34115731377,53033.92736597869,53043.00705396525,53051.60698496957,53059.7525085546,53067.46763486697,53074.77510540666,53081.69646005785,53088.25210057834,53094.46135073483,53100.34251326088,53105.91292380566,53111.1890020321,53116.18630001635,53120.91954808991,53125.40269825733,53129.648965315064,53133.67086581486,53137.48025495481,53141.08836152204,53144.50582099141,53147.74270687488,53150.808560415026,53153.71241871134,53156.46284135599,53159.06793566479,53161.53538057476,53163.8724492784,53166.086030664854,53168.1826496246,53170.168486282215,53172.049394213354,53173.8309176989,53175.51830806812,53177.1165391786,53178.630322079094,53180.06411892638,53181.42215601852,53182.708436413646,53183.92675161695,53185.08069280017,53186.17366141737,53187.20887913711,53188.18939747685,53189.11810661936],\"type\":\"scatter\"},{\"mode\":\"lines\",\"name\":\"Vacinados\",\"x\":[0,1,2,3,4,5,6,7,8,9,10,11,12,13,14,15,16,17,18,19,20,21,22,23,24,25,26,27,28,29,30,31,32,33,34,35,36,37,38,39,40,41,42,43,44,45,46,47,48,49,50,51,52,53,54,55,56,57,58,59,60,61,62,63,64,65,66,67,68,69,70,71,72,73,74,75,76,77,78,79,80,81,82,83,84,85,86,87,88,89,90,91,92,93,94,95,96,97,98,99,100,101,102,103,104,105,106,107,108,109,110,111,112,113,114,115,116,117,118,119,120,121,122,123,124,125,126,127,128,129,130,131,132,133,134,135,136,137,138,139,140,141,142,143,144,145,146,147,148,149,150,151],\"y\":[0.0,437257.9410765673,842305.3988292776,1206618.255744465,1521871.719859835,1780753.0398834809,1979619.474748611,2121619.250766122,2217658.4228807655,2283518.2161797225,2334814.4924915,2383344.216134787,2436368.9357619234,2497739.999339015,2569301.1816348513,2651862.905402285,2745726.1571397223,2850930.392646617,2967366.939881349,3094833.850987985,3233066.034065134,3381754.397058495,3540559.430221221,3709121.46185274,3887068.6221248284,4074023.084326753,4269605.953792076,4473441.074676438,4685157.964379728,4904394.043369959,5130796.296285491,5364022.474952991,5603741.9335790435,5849636.169772009,6101399.131477975,6358737.338792737,6621369.860518941,6889028.177847233,7161455.961462171,7438408.783330851,7719653.7803547345,8004969.283721415,8294144.425027267,8586978.728023026,8883281.693025853,9182872.379500326,9485578.991162362,9791238.466951286,10099696.080411246,10410805.049389074,10724426.157437475,11040427.387893133,11358683.571264364,11679076.046298202,12001492.33488491,12325825.8307952,12651975.502113577,12979845.607134275,13309345.423411213,13640388.989597159,13972894.859668635,14306785.869105557,14641988.912577484,14978434.732679645,15316057.719258904,15654795.718872158,15994589.853925586,16335384.35105219,16677126.378296133,17019765.89068506,17363255.483785465,17707550.254850846,18052607.671187136,18398387.445375472,18744851.417007368,19091963.44060252,19439689.279394418,19787996.504683398,20136854.400470912,20486233.873102546,20836107.36566048,21186448.776858926,21537233.38420817,21888437.771224756,22240039.75847638,22592018.338260993,22944353.612729624,23297026.735272486,23650019.85499694,24003316.064134877,24356899.34822555,24710754.538927782,25064867.269323178,25419223.931579035,25773811.63684676,26128618.177277863,26483631.990045875,26838842.123268347,27194238.20372893,27549810.40630418,27905549.425005447,28261446.445550397,28617493.1193835,28973681.539068986,29330004.214983657,29686454.053241275,30043024.33478299,30399708.69557264,30756501.107838295,31113395.862304974,31470387.551366016,31827471.05314365,32184641.516391695,32541894.34619595,32899225.190430164,33256629.92692755,33614104.65133019,33971645.66558041,34329249.46702022,34686912.738066785,35044632.3364332,35402405.28586597,35760228.76737242,36118100.110912524,36476016.78752637,36833976.40188023,37191976.68520642,37550015.48861566,37908090.77676297,38266200.62184805,38624343.197932355,38982516.77555738,39340719.71664676,39698950.46967771,40057207.565107845,40415489.61104297,40773795.28913452,41132123.35069363,41490472.613010354,41848841.95586753,42207230.318238616,42565636.69515999,42924060.13476833,43282499.735488735,43640954.64340137,43999424.049691804,44357907.18828973,44716403.33360203,45074911.79836788,45433431.93165196,45791963.11689783,46150504.770146586],\"type\":\"scatter\"}],                        {\"title\":{\"font\":{\"color\":\"#7f7f7f\",\"family\":\"Arial\",\"size\":22},\"text\":\"Modelo SIRV com exposi\\u00e7\\u00e3o\"},\"xaxis\":{\"title\":{\"text\":\"Dias\"}},\"yaxis\":{\"title\":{\"text\":\"Popula\\u00e7\\u00e3o em 1\\u00ba de Janeiro de 2022\"}},\"template\":{\"data\":{\"bar\":[{\"error_x\":{\"color\":\"#2a3f5f\"},\"error_y\":{\"color\":\"#2a3f5f\"},\"marker\":{\"line\":{\"color\":\"#E5ECF6\",\"width\":0.5},\"pattern\":{\"fillmode\":\"overlay\",\"size\":10,\"solidity\":0.2}},\"type\":\"bar\"}],\"barpolar\":[{\"marker\":{\"line\":{\"color\":\"#E5ECF6\",\"width\":0.5},\"pattern\":{\"fillmode\":\"overlay\",\"size\":10,\"solidity\":0.2}},\"type\":\"barpolar\"}],\"carpet\":[{\"aaxis\":{\"endlinecolor\":\"#2a3f5f\",\"gridcolor\":\"white\",\"linecolor\":\"white\",\"minorgridcolor\":\"white\",\"startlinecolor\":\"#2a3f5f\"},\"baxis\":{\"endlinecolor\":\"#2a3f5f\",\"gridcolor\":\"white\",\"linecolor\":\"white\",\"minorgridcolor\":\"white\",\"startlinecolor\":\"#2a3f5f\"},\"type\":\"carpet\"}],\"choropleth\":[{\"colorbar\":{\"outlinewidth\":0,\"ticks\":\"\"},\"type\":\"choropleth\"}],\"contour\":[{\"colorbar\":{\"outlinewidth\":0,\"ticks\":\"\"},\"colorscale\":[[0.0,\"#0d0887\"],[0.1111111111111111,\"#46039f\"],[0.2222222222222222,\"#7201a8\"],[0.3333333333333333,\"#9c179e\"],[0.4444444444444444,\"#bd3786\"],[0.5555555555555556,\"#d8576b\"],[0.6666666666666666,\"#ed7953\"],[0.7777777777777778,\"#fb9f3a\"],[0.8888888888888888,\"#fdca26\"],[1.0,\"#f0f921\"]],\"type\":\"contour\"}],\"contourcarpet\":[{\"colorbar\":{\"outlinewidth\":0,\"ticks\":\"\"},\"type\":\"contourcarpet\"}],\"heatmap\":[{\"colorbar\":{\"outlinewidth\":0,\"ticks\":\"\"},\"colorscale\":[[0.0,\"#0d0887\"],[0.1111111111111111,\"#46039f\"],[0.2222222222222222,\"#7201a8\"],[0.3333333333333333,\"#9c179e\"],[0.4444444444444444,\"#bd3786\"],[0.5555555555555556,\"#d8576b\"],[0.6666666666666666,\"#ed7953\"],[0.7777777777777778,\"#fb9f3a\"],[0.8888888888888888,\"#fdca26\"],[1.0,\"#f0f921\"]],\"type\":\"heatmap\"}],\"heatmapgl\":[{\"colorbar\":{\"outlinewidth\":0,\"ticks\":\"\"},\"colorscale\":[[0.0,\"#0d0887\"],[0.1111111111111111,\"#46039f\"],[0.2222222222222222,\"#7201a8\"],[0.3333333333333333,\"#9c179e\"],[0.4444444444444444,\"#bd3786\"],[0.5555555555555556,\"#d8576b\"],[0.6666666666666666,\"#ed7953\"],[0.7777777777777778,\"#fb9f3a\"],[0.8888888888888888,\"#fdca26\"],[1.0,\"#f0f921\"]],\"type\":\"heatmapgl\"}],\"histogram\":[{\"marker\":{\"pattern\":{\"fillmode\":\"overlay\",\"size\":10,\"solidity\":0.2}},\"type\":\"histogram\"}],\"histogram2d\":[{\"colorbar\":{\"outlinewidth\":0,\"ticks\":\"\"},\"colorscale\":[[0.0,\"#0d0887\"],[0.1111111111111111,\"#46039f\"],[0.2222222222222222,\"#7201a8\"],[0.3333333333333333,\"#9c179e\"],[0.4444444444444444,\"#bd3786\"],[0.5555555555555556,\"#d8576b\"],[0.6666666666666666,\"#ed7953\"],[0.7777777777777778,\"#fb9f3a\"],[0.8888888888888888,\"#fdca26\"],[1.0,\"#f0f921\"]],\"type\":\"histogram2d\"}],\"histogram2dcontour\":[{\"colorbar\":{\"outlinewidth\":0,\"ticks\":\"\"},\"colorscale\":[[0.0,\"#0d0887\"],[0.1111111111111111,\"#46039f\"],[0.2222222222222222,\"#7201a8\"],[0.3333333333333333,\"#9c179e\"],[0.4444444444444444,\"#bd3786\"],[0.5555555555555556,\"#d8576b\"],[0.6666666666666666,\"#ed7953\"],[0.7777777777777778,\"#fb9f3a\"],[0.8888888888888888,\"#fdca26\"],[1.0,\"#f0f921\"]],\"type\":\"histogram2dcontour\"}],\"mesh3d\":[{\"colorbar\":{\"outlinewidth\":0,\"ticks\":\"\"},\"type\":\"mesh3d\"}],\"parcoords\":[{\"line\":{\"colorbar\":{\"outlinewidth\":0,\"ticks\":\"\"}},\"type\":\"parcoords\"}],\"pie\":[{\"automargin\":true,\"type\":\"pie\"}],\"scatter\":[{\"marker\":{\"colorbar\":{\"outlinewidth\":0,\"ticks\":\"\"}},\"type\":\"scatter\"}],\"scatter3d\":[{\"line\":{\"colorbar\":{\"outlinewidth\":0,\"ticks\":\"\"}},\"marker\":{\"colorbar\":{\"outlinewidth\":0,\"ticks\":\"\"}},\"type\":\"scatter3d\"}],\"scattercarpet\":[{\"marker\":{\"colorbar\":{\"outlinewidth\":0,\"ticks\":\"\"}},\"type\":\"scattercarpet\"}],\"scattergeo\":[{\"marker\":{\"colorbar\":{\"outlinewidth\":0,\"ticks\":\"\"}},\"type\":\"scattergeo\"}],\"scattergl\":[{\"marker\":{\"colorbar\":{\"outlinewidth\":0,\"ticks\":\"\"}},\"type\":\"scattergl\"}],\"scattermapbox\":[{\"marker\":{\"colorbar\":{\"outlinewidth\":0,\"ticks\":\"\"}},\"type\":\"scattermapbox\"}],\"scatterpolar\":[{\"marker\":{\"colorbar\":{\"outlinewidth\":0,\"ticks\":\"\"}},\"type\":\"scatterpolar\"}],\"scatterpolargl\":[{\"marker\":{\"colorbar\":{\"outlinewidth\":0,\"ticks\":\"\"}},\"type\":\"scatterpolargl\"}],\"scatterternary\":[{\"marker\":{\"colorbar\":{\"outlinewidth\":0,\"ticks\":\"\"}},\"type\":\"scatterternary\"}],\"surface\":[{\"colorbar\":{\"outlinewidth\":0,\"ticks\":\"\"},\"colorscale\":[[0.0,\"#0d0887\"],[0.1111111111111111,\"#46039f\"],[0.2222222222222222,\"#7201a8\"],[0.3333333333333333,\"#9c179e\"],[0.4444444444444444,\"#bd3786\"],[0.5555555555555556,\"#d8576b\"],[0.6666666666666666,\"#ed7953\"],[0.7777777777777778,\"#fb9f3a\"],[0.8888888888888888,\"#fdca26\"],[1.0,\"#f0f921\"]],\"type\":\"surface\"}],\"table\":[{\"cells\":{\"fill\":{\"color\":\"#EBF0F8\"},\"line\":{\"color\":\"white\"}},\"header\":{\"fill\":{\"color\":\"#C8D4E3\"},\"line\":{\"color\":\"white\"}},\"type\":\"table\"}]},\"layout\":{\"annotationdefaults\":{\"arrowcolor\":\"#2a3f5f\",\"arrowhead\":0,\"arrowwidth\":1},\"autotypenumbers\":\"strict\",\"coloraxis\":{\"colorbar\":{\"outlinewidth\":0,\"ticks\":\"\"}},\"colorscale\":{\"diverging\":[[0,\"#8e0152\"],[0.1,\"#c51b7d\"],[0.2,\"#de77ae\"],[0.3,\"#f1b6da\"],[0.4,\"#fde0ef\"],[0.5,\"#f7f7f7\"],[0.6,\"#e6f5d0\"],[0.7,\"#b8e186\"],[0.8,\"#7fbc41\"],[0.9,\"#4d9221\"],[1,\"#276419\"]],\"sequential\":[[0.0,\"#0d0887\"],[0.1111111111111111,\"#46039f\"],[0.2222222222222222,\"#7201a8\"],[0.3333333333333333,\"#9c179e\"],[0.4444444444444444,\"#bd3786\"],[0.5555555555555556,\"#d8576b\"],[0.6666666666666666,\"#ed7953\"],[0.7777777777777778,\"#fb9f3a\"],[0.8888888888888888,\"#fdca26\"],[1.0,\"#f0f921\"]],\"sequentialminus\":[[0.0,\"#0d0887\"],[0.1111111111111111,\"#46039f\"],[0.2222222222222222,\"#7201a8\"],[0.3333333333333333,\"#9c179e\"],[0.4444444444444444,\"#bd3786\"],[0.5555555555555556,\"#d8576b\"],[0.6666666666666666,\"#ed7953\"],[0.7777777777777778,\"#fb9f3a\"],[0.8888888888888888,\"#fdca26\"],[1.0,\"#f0f921\"]]},\"colorway\":[\"#636efa\",\"#EF553B\",\"#00cc96\",\"#ab63fa\",\"#FFA15A\",\"#19d3f3\",\"#FF6692\",\"#B6E880\",\"#FF97FF\",\"#FECB52\"],\"font\":{\"color\":\"#2a3f5f\"},\"geo\":{\"bgcolor\":\"white\",\"lakecolor\":\"white\",\"landcolor\":\"#E5ECF6\",\"showlakes\":true,\"showland\":true,\"subunitcolor\":\"white\"},\"hoverlabel\":{\"align\":\"left\"},\"hovermode\":\"closest\",\"mapbox\":{\"style\":\"light\"},\"paper_bgcolor\":\"white\",\"plot_bgcolor\":\"#E5ECF6\",\"polar\":{\"angularaxis\":{\"gridcolor\":\"white\",\"linecolor\":\"white\",\"ticks\":\"\"},\"bgcolor\":\"#E5ECF6\",\"radialaxis\":{\"gridcolor\":\"white\",\"linecolor\":\"white\",\"ticks\":\"\"}},\"scene\":{\"xaxis\":{\"backgroundcolor\":\"#E5ECF6\",\"gridcolor\":\"white\",\"gridwidth\":2,\"linecolor\":\"white\",\"showbackground\":true,\"ticks\":\"\",\"zerolinecolor\":\"white\"},\"yaxis\":{\"backgroundcolor\":\"#E5ECF6\",\"gridcolor\":\"white\",\"gridwidth\":2,\"linecolor\":\"white\",\"showbackground\":true,\"ticks\":\"\",\"zerolinecolor\":\"white\"},\"zaxis\":{\"backgroundcolor\":\"#E5ECF6\",\"gridcolor\":\"white\",\"gridwidth\":2,\"linecolor\":\"white\",\"showbackground\":true,\"ticks\":\"\",\"zerolinecolor\":\"white\"}},\"shapedefaults\":{\"line\":{\"color\":\"#2a3f5f\"}},\"ternary\":{\"aaxis\":{\"gridcolor\":\"white\",\"linecolor\":\"white\",\"ticks\":\"\"},\"baxis\":{\"gridcolor\":\"white\",\"linecolor\":\"white\",\"ticks\":\"\"},\"bgcolor\":\"#E5ECF6\",\"caxis\":{\"gridcolor\":\"white\",\"linecolor\":\"white\",\"ticks\":\"\"}},\"title\":{\"x\":0.05},\"xaxis\":{\"automargin\":true,\"gridcolor\":\"white\",\"linecolor\":\"white\",\"ticks\":\"\",\"title\":{\"standoff\":15},\"zerolinecolor\":\"white\",\"zerolinewidth\":2},\"yaxis\":{\"automargin\":true,\"gridcolor\":\"white\",\"linecolor\":\"white\",\"ticks\":\"\",\"title\":{\"standoff\":15},\"zerolinecolor\":\"white\",\"zerolinewidth\":2}}},\"legend\":{\"orientation\":\"h\",\"y\":-0.15}},                        {\"responsive\": true}                    ).then(function(){\n",
              "                            \n",
              "var gd = document.getElementById('f2c53768-0830-4c6e-8028-7da2d06cd9a0');\n",
              "var x = new MutationObserver(function (mutations, observer) {{\n",
              "        var display = window.getComputedStyle(gd).display;\n",
              "        if (!display || display === 'none') {{\n",
              "            console.log([gd, 'removed!']);\n",
              "            Plotly.purge(gd);\n",
              "            observer.disconnect();\n",
              "        }}\n",
              "}});\n",
              "\n",
              "// Listen for the removal of the full notebook cells\n",
              "var notebookContainer = gd.closest('#notebook-container');\n",
              "if (notebookContainer) {{\n",
              "    x.observe(notebookContainer, {childList: true});\n",
              "}}\n",
              "\n",
              "// Listen for the clearing of the current output cell\n",
              "var outputEl = gd.closest('.output');\n",
              "if (outputEl) {{\n",
              "    x.observe(outputEl, {childList: true});\n",
              "}}\n",
              "\n",
              "                        })                };                            </script>        </div>\n",
              "</body>\n",
              "</html>"
            ]
          },
          "metadata": {}
        }
      ]
    },
    {
      "cell_type": "markdown",
      "source": [
        "### **Análise no estado de Pernambuco sem vacinação**\n"
      ],
      "metadata": {
        "id": "EG5Vkeqj3YQJ"
      }
    },
    {
      "cell_type": "markdown",
      "source": [
        "Aqui iremos aplicar um cénario hipotético em que não há aplicação e concepção de vacinas para mostrar o impacto dessa medida na duração de casos e consequentemente em sua propagação "
      ],
      "metadata": {
        "id": "jN92XFD_3eC5"
      }
    },
    {
      "cell_type": "code",
      "source": [
        "#Parâmetros para gerar a solução:\n",
        "alfa = 0.2      # probabilidade de uma pessoa ser hospitalizada\n",
        "beta = 0.69     # probabilidade de uma pessoa exposta se torna infectada\n",
        "gama = 1/20     # 1 / (tempo medio de infecção)\n",
        "sigma = 1/5.5   # taxa de incubação do vírus (1 / periodo_de_incubacao)\n",
        "csi = 0.024     # taxa de mortalidade\n",
        "Lambda = 1 / 14 # Tempo internado (em dias)\n",
        "delta = 0.94    # Eficácia da vacina \n",
        "N = 9674793     # População total\n",
        "i0 = 648856     # número inicial de infectados\n",
        "e0 = 0          # pessoas expostas inicialmente\n",
        "r0 = 0          # número inicial de recuperados\n",
        "v0 = 0          # número inicial de vacinados\n",
        "d0 = 20500      # número inicial de pessoas mortas\n",
        "t = np.arange(152) \n",
        "#gera um vetor (0,1,2,3..,151) que representa o valores de t usados para gerar a solução.\n",
        "\n",
        "solucao = SIR(t,alfa,beta,gama,sigma,Lambda,delta,csi,N,i0,r0,v0,d0,e0) \n",
        "#variável que armazenará S,I,R,C que são os valores retornados pela função SIR,\n",
        "#como a função retorna um array com cada elemento sendo S,I,R,C para analisar cada solução separadamente  \n",
        "#vamos definir as seguintes variáveis\n",
        "S = solucao[0]  #Suscetíves\n",
        "E = solucao[1]  #Expostas\n",
        "I = solucao[2]  #Infectados\n",
        "R = solucao[3]  #Recuperados\n",
        "C = solucao[4]  #Casos Acumulados\n",
        "D = solucao[5]  #Numero de mortes\n",
        "#V = solucao[6]  #Numero de Vacinas Aplicadas\n",
        "\n",
        "#cada uma das variáveis trace abaixo armazena o conjunto de pontos gerada pela função SIR que queremos plotar. \n",
        "#Veja que como queremos plotar 4 conjuntos de dados diferentes S,I,R,C armazenamos cada um deles em uma varíavel.\n",
        "trace1 = go.Scatter(x=t, y=S,mode='lines',name='Suscetíveis',) \n",
        "\n",
        "trace2 = go.Scatter(x=t, y=I, mode='lines',name='Infectados',)\n",
        "\n",
        "trace3 = go.Scatter(x=t, y=R, mode='lines', name='Recuperados',)\n",
        "\n",
        "trace4 = go.Scatter(x=t, y=C,mode='lines',name='Casos acumulados',)\n",
        "\n",
        "trace5 = go.Scatter(x=t, y=E,mode='lines',name='Expostos',)\n",
        "\n",
        "trace6 = go.Scatter(x=t, y=D,mode = 'lines',name='Mortes',)\n",
        "\n",
        "#trace7 = go.Scatter(x=t, y=V,mode = 'lines',name = 'Vacinados')\n",
        "\n",
        "layout = go.Layout( title = 'Modelo SIR com exposição', #define o título do gráfico \n",
        "                  titlefont = {'family': 'Arial', 'size': 22,'color': '#7f7f7f'}, #define a fonte e cor e fonte do título\n",
        "                  xaxis = {'title': 'Dias'}, #título do eixo x\n",
        "                  yaxis = {'title': 'População em 1º de Janeiro de 2022'},  #título do eixo y\n",
        "                       )\n",
        "\n",
        "data=[trace1,trace2,trace3,trace4,trace5,trace6]#,trace7] #vetor que armazena os pontos que queremos plotar\n",
        "\n",
        "fig = go.Figure(data, layout = layout) #função que gera a figura\n",
        "       \n",
        "fig.update_layout(\n",
        "legend_orientation=\"h\", #define a localização da legenda\n",
        "legend=dict(\n",
        "         y=-0.15,       #coloca um recuo na legenda para que ela fique mais longe do título do eixo x.\n",
        "        ))\n",
        "\n",
        "fig.show() #mostra a figura\n",
        "\n",
        "R0 = beta/gama\n",
        "#Caso deseje que o R0 seja printado adicione o seguinte comando:\n",
        "#print('Para essas condições o R0 é:%f' %R0)"
      ],
      "metadata": {
        "colab": {
          "base_uri": "https://localhost:8080/",
          "height": 542
        },
        "id": "j13B_V9n3hG0",
        "outputId": "f1150744-8809-4a56-874a-35473fa799bc"
      },
      "execution_count": null,
      "outputs": [
        {
          "output_type": "display_data",
          "data": {
            "text/html": [
              "<html>\n",
              "<head><meta charset=\"utf-8\" /></head>\n",
              "<body>\n",
              "    <div>            <script src=\"https://cdnjs.cloudflare.com/ajax/libs/mathjax/2.7.5/MathJax.js?config=TeX-AMS-MML_SVG\"></script><script type=\"text/javascript\">if (window.MathJax) {MathJax.Hub.Config({SVG: {font: \"STIX-Web\"}});}</script>                <script type=\"text/javascript\">window.PlotlyConfig = {MathJaxConfig: 'local'};</script>\n",
              "        <script src=\"https://cdn.plot.ly/plotly-2.8.3.min.js\"></script>                <div id=\"0901f3cb-2d09-46f6-aa5b-e778fad5a529\" class=\"plotly-graph-div\" style=\"height:525px; width:100%;\"></div>            <script type=\"text/javascript\">                                    window.PLOTLYENV=window.PLOTLYENV || {};                                    if (document.getElementById(\"0901f3cb-2d09-46f6-aa5b-e778fad5a529\")) {                    Plotly.newPlot(                        \"0901f3cb-2d09-46f6-aa5b-e778fad5a529\",                        [{\"mode\":\"lines\",\"name\":\"Suscet\\u00edveis\",\"x\":[0,1,2,3,4,5,6,7,8,9,10,11,12,13,14,15,16,17,18,19,20,21,22,23,24,25,26,27,28,29,30,31,32,33,34,35,36,37,38,39,40,41,42,43,44,45,46,47,48,49,50,51,52,53,54,55,56,57,58,59,60,61,62,63,64,65,66,67,68,69,70,71,72,73,74,75,76,77,78,79,80,81,82,83,84,85,86,87,88,89,90,91,92,93,94,95,96,97,98,99,100,101,102,103,104,105,106,107,108,109,110,111,112,113,114,115,116,117,118,119,120,121,122,123,124,125,126,127,128,129,130,131,132,133,134,135,136,137,138,139,140,141,142,143,144,145,146,147,148,149,150,151],\"y\":[9005437.0,8532654.770989925,8027570.327548796,7503054.657146826,6966711.757621997,6423493.190675105,5877351.20231477,5332256.598666311,4792766.0568140205,4264235.033903892,3752731.6835176675,3264703.6862846515,2806470.232281956,2383638.5762718623,2000560.7125088938,1659937.375458155,1362641.1097857582,1107776.7762367763,892944.4938038468,714632.5896241571,568656.1106443055,450567.21120577503,355988.67791832116,280849.68144364806,221525.60332490344,174897.8641666939,138355.3493061603,109758.61905066347,87384.37552130484,69862.84745818269,56116.25474408989,45302.90178624412,36768.931562417136,30008.14859520768,24629.41114591604,20330.662253715032,16878.53130553371,14092.472259871187,11832.518257973321,9989.874217454386,8479.71036863794,7235.652539347698,6205.57092123397,5348.359252013536,4631.469013115065,4029.0176463108724,3520.333964095017,3088.8364661561477,2721.165779578934,2406.511365316703,2136.087174191848,1902.721805044694,1700.5369055649653,1524.6939143166987,1371.1938153508781,1236.7181854879793,1118.5025471429703,1014.2350461950754,921.9750967411177,840.087800040096,767.1908830907546,702.1116058395821,643.851635477553,591.5583141815418,544.5010708934309,502.05199542897554,463.6697739392706,428.88637571714673,397.29597158781326,368.5456881153305,342.32786634678865,318.3735614104204,296.44706841854224,276.3412989015198,257.8738643194249,240.88375107838127,225.22848748207682,210.7817265595379,197.431175894289,185.076822004372,173.62940279811463,163.00909070094946,153.14435467063643,143.97097466771248,135.43118624457924,127.47293652727963,120.04923572547678,113.11759076750478,106.63950967850509,100.58006703011644,94.90752221729994,89.592983523353,84.61011194806359,79.9348596326628,75.54523844247437,71.42111488507621,67.54402806719185,63.89702784042158,60.4645306688374,57.23219107833281,54.18678682830682,51.31611618707905,48.60890589984161,46.05472861672494,43.6439287037543,41.36755549109781,39.21730313039755,37.18545633457515,35.26484135804756,33.448781652657416,31.73105770207166,30.105870592031433,28.567808931010667,27.11181877242782,25.73317623302001,24.42746253637041,23.190541238489065,22.018537420670498,20.90781865729057,19.854977587210676,18.856815934819952,17.910329845759183,17.01269641155714,16.161261275760783,15.353527221121986,14.587143649795912,13.859896876494007,13.1697011626905,12.514590427067048,11.892710573702963,11.30231238517026,10.741744932764913,10.20944946062953,9.703953704588793,9.223866610187272,8.76787341762963,8.334731084342518,7.923264018487474,7.5323600991432045,7.160966961051581,6.808088523799033,6.472781745885477,6.154153590385046,5.851358181898903,5.563594143522395,5.290102101051553,5.03016234147635,4.783092614535475,4.548246069473288,4.32500931526604,4.112800599131644,3.9110680880611004],\"type\":\"scatter\"},{\"mode\":\"lines\",\"name\":\"Infectados\",\"x\":[0,1,2,3,4,5,6,7,8,9,10,11,12,13,14,15,16,17,18,19,20,21,22,23,24,25,26,27,28,29,30,31,32,33,34,35,36,37,38,39,40,41,42,43,44,45,46,47,48,49,50,51,52,53,54,55,56,57,58,59,60,61,62,63,64,65,66,67,68,69,70,71,72,73,74,75,76,77,78,79,80,81,82,83,84,85,86,87,88,89,90,91,92,93,94,95,96,97,98,99,100,101,102,103,104,105,106,107,108,109,110,111,112,113,114,115,116,117,118,119,120,121,122,123,124,125,126,127,128,129,130,131,132,133,134,135,136,137,138,139,140,141,142,143,144,145,146,147,148,149,150,151],\"y\":[0.0,106908.40028229593,200901.6901106694,292003.0971379438,386716.2073095926,489261.9179908543,602260.3997731826,727081.2191999087,864005.7844695731,1012299.5342666331,1170262.9380487704,1335310.1864920733,1504106.0133646263,1672771.545221722,1837150.0912709793,1993106.3587430331,2136822.12994853,2265050.128089981,2375296.0175979957,2465912.9738009144,2536109.241864584,2585882.5890143234,2615903.313531411,2627369.5416943408,2621855.9386306917,2601171.727274537,2567237.981758666,2521988.8193450025,2467297.124724401,2404922.79616796,2336480.142461427,2263420.582804266,2187026.9260777803,2108415.941912823,2028546.5103762487,1948231.2177831654,1868149.7970342236,1788863.2584895305,1710827.917378594,1634408.794183616,1559892.0751432306,1487496.4695760105,1417383.399883419,1349666.029921436,1284417.1851731695,1221676.2405801965,1161455.0675737252,1103743.1360445493,1048511.8662199399,995718.3211789137,945308.3242113208,897219.0777353281,851381.3527433305,807721.3098739167,766162.0059466548,726624.6329287832,689029.5301301476,653297.004809017,619347.991495341,587104.575920809,556490.4057005249,527431.006613554,499854.0204388994,473689.3779215935,448869.4182713558,425328.9648298977,403005.36506218486,381838.5015814423,361770.7799849203,342747.09820504277,324714.8013455167,307623.6253114625,291425.63193071616,276075.13783566764,261528.63895685298,247744.73211734413,234684.0350079701,222309.10548890883,210584.36106811685,199475.99916352244,188951.91867061713,178981.6432174253,169536.2464108026,160588.27929042387,152111.70015100736,144081.80683779586,136475.17157960156,129269.5783887886,122443.96303077365,115978.3555434226,109853.82526918848,104052.42834967643,98557.15762175381,93351.89484679206,88421.3651987803,83751.09393347843,79327.36515817039,75137.18262048566,71168.2324343127,67408.84766138544,63847.97466805954,60475.14117835605,57280.425946147734,54254.42997152519,51388.24918865509,48673.44855493216,46102.037473718236,43666.44648561743,41359.505165790346,39174.42116742136,37104.76035405937,35144.427965959745,33287.65076829402,31528.960131186916,29863.175994054596,28285.391668969525,26790.95943989679,25375.47691680259,24034.77410559828,22764.9011568694,21562.116758067234,20422.877135901264,19343.825636887253,18321.782856120244,17353.73728549926,16436.83645431151,15568.378536382086,14745.804399353916,13966.69007291553,13228.739613993615,12529.778348069642,11867.746466861998,11240.692963639945,10646.769888416444,10084.226906195317,9551.406142313448,9046.737299770828,8568.733034223014,8115.984573062385,7687.157565734598,7280.988153118436,6896.279243939031,6531.896989025349,6186.76744041181,5859.873387190447,5550.2513587820185,5256.988786235279,4979.221312819341,4716.130247676233,4466.940153204202,4230.916561665065,4007.3638082535444],\"type\":\"scatter\"},{\"mode\":\"lines\",\"name\":\"Recuperados\",\"x\":[0,1,2,3,4,5,6,7,8,9,10,11,12,13,14,15,16,17,18,19,20,21,22,23,24,25,26,27,28,29,30,31,32,33,34,35,36,37,38,39,40,41,42,43,44,45,46,47,48,49,50,51,52,53,54,55,56,57,58,59,60,61,62,63,64,65,66,67,68,69,70,71,72,73,74,75,76,77,78,79,80,81,82,83,84,85,86,87,88,89,90,91,92,93,94,95,96,97,98,99,100,101,102,103,104,105,106,107,108,109,110,111,112,113,114,115,116,117,118,119,120,121,122,123,124,125,126,127,128,129,130,131,132,133,134,135,136,137,138,139,140,141,142,143,144,145,146,147,148,149,150,151],\"y\":[0.0,2970.942124773476,11304.956580478625,24595.412663114676,42874.191065605315,66458.3410668433,95847.2499819347,131646.85746829177,174507.1712784464,225065.74810423647,283894.2349050176,351448.22980314237,428022.8614780417,513717.60697206255,608413.915608036,711768.2202430384,823221.1723408238,942021.8569798737,1067263.8724295143,1197928.8998255534,1332932.9949725817,1471171.2287213309,1611557.2978409764,1753055.974045081,1894707.4850252892,2035643.927606979,2175098.509551569,2312408.807136496,2447015.3578032283,2578456.866744935,2706363.155357386,2830446.7808779543,2950494.051151685,3066355.968045509,3177939.4707042794,3285199.2198358877,3388130.0634398675,3486760.2504083184,3581145.4062247835,3671363.250638501,3757509.0138173234,3839691.4952711635,3918029.7039638744,3992650.0168549134,4063683.794073863,4131265.393183549,4195530.5291873,4256614.932089156,4314653.259037263,4369778.223031681,4422119.904944838,4471805.219938214,4518957.513256494,4563696.263947608,4606136.878104087,4646390.55595722,4684564.219518381,4720760.48950715,4755077.702066561,4787609.957287549,4818447.192850227,4847675.277191064,4875376.117554054,4901627.7790610045,4926504.611625279,4950077.382094879,4972413.40946748,4993576.701470348,5013628.091074367,5032625.3718384085,5050623.431194169,5067674.38097445,5083827.684664481,5099130.280974288,5113626.703446706,5127359.1959141055,5140367.823668686,5152690.580302084,5164363.490187129,5175420.706638295,5185894.605802306,5195815.876362898,5205213.60515745,5214115.35882046,5222547.261576736,5230534.069315389,5238099.240079825,5245265.001111695,5252052.412587335,5258481.4281848725,5264570.952618665,5270338.896275263,5275802.227082175,5280977.019737092,5285878.502421528,5290521.101118581,5294918.481650336,5299083.589546,5303028.687847509,5306765.39295487,5310304.708609161,5313657.058106833,5316832.314834714,5319839.831211016,5322688.466113686,5325386.610873568,5327942.213906139,5330362.804051951,5332655.51269255,5334827.094705298,5336883.94831732,5338832.133915974,5340677.391869946,5342425.159412798,5344080.586637864,5345648.551650946,5347133.67492493,5348540.332898111,5349872.670855908,5351134.615133543,5352329.884675436,5353462.001984905,5354534.303496508,5355549.949401141,5356511.932952842,5357423.08928452,5358286.103758478,5359103.51987623,5359877.746770842,5360611.066303784,5361305.639787147,5361963.514350977,5362586.6289744405,5363176.820198544,5363735.82753721,5364265.298602624,5364766.79395993,5365241.791725546,5365691.691922645,5366117.820606593,5366521.433772482,5366903.7210567435,5367265.809241983,5367608.765577989,5367933.600926966,5368241.272742297,5368532.687890151,5368808.705322667,5369070.138608887,5369317.75833273,5369552.294362495,5369774.4380045775],\"type\":\"scatter\"},{\"mode\":\"lines\",\"name\":\"Casos acumulados\",\"x\":[0,1,2,3,4,5,6,7,8,9,10,11,12,13,14,15,16,17,18,19,20,21,22,23,24,25,26,27,28,29,30,31,32,33,34,35,36,37,38,39,40,41,42,43,44,45,46,47,48,49,50,51,52,53,54,55,56,57,58,59,60,61,62,63,64,65,66,67,68,69,70,71,72,73,74,75,76,77,78,79,80,81,82,83,84,85,86,87,88,89,90,91,92,93,94,95,96,97,98,99,100,101,102,103,104,105,106,107,108,109,110,111,112,113,114,115,116,117,118,119,120,121,122,123,124,125,126,127,128,129,130,131,132,133,134,135,136,137,138,139,140,141,142,143,144,145,146,147,148,149,150,151],\"y\":[0.0,109879.3424070694,212206.64669114805,316598.50980105845,429590.3983751979,555720.2590576976,698107.6497551173,858728.0766682004,1038512.9557480195,1237365.2823708695,1454157.172953788,1686758.4162952157,1932128.874842668,2186489.1521937847,2445564.0068790154,2704874.5789860715,2960043.3022893537,3207071.985069855,3442559.89002751,3663841.873626468,3869042.2368371654,4057053.8177356543,4227460.611372387,4380425.515739422,4516563.423655981,4636815.6548815165,4742336.491310235,4834397.626481499,4914312.4825276295,4983379.662912895,5042843.2978188135,5093867.36368222,5137520.977229465,5174771.909958332,5206485.981080528,5233430.437619053,5256279.860474091,5275623.508897848,5291973.323603378,5305772.044822117,5317401.088960554,5327187.964847174,5335413.103847293,5342316.04677635,5348100.979247033,5352941.633763745,5356985.5967610255,5360358.068133704,5363165.125257202,5365496.544210595,5367428.229156159,5369024.297673542,5370338.865999824,5371417.573821524,5372298.884050742,5373015.188886003,5373593.749648529,5374057.494316167,5374425.693561902,5374714.533208358,5374937.598550752,5375106.283804618,5375230.137992953,5375317.156982598,5375374.029896636,5375406.346924776,5375418.774529665,5375415.203051791,5375398.871059287,5375372.4700434515,5375338.232539686,5375298.006285912,5375253.316595198,5375205.418809955,5375155.342403559,5375103.928031449,5375051.858676656,5374999.685790992,5374947.8512552455,5374896.705801818,5374846.524472923,5374797.519580323,5374749.851568253,5374703.6381108835,5374658.961727744,5374615.876153185,5374574.411659426,5374534.579500483,5374496.375618109,5374459.783728295,5374424.777887854,5374391.32462494,5374359.384703929,5374328.914583884,5374299.867620308,5374272.195052059,5374245.846808506,5374220.772166485,5374196.920281822,5374174.240616255,5374152.68327722,5374132.19928519,5374112.740780862,5374094.261182541,5374076.715302341,5374060.0594285,5374044.251379858,5374029.250537568,5374015.01785834,5374001.515872719,5373988.70867138,5373976.561881933,5373965.04263824,5373954.1195439845,5373943.762631918,5373933.943319916,5373924.634364827,5373915.809814914,5373907.444961506,5373899.516290412,5373892.001433503,5373884.879120807,5373878.129133395,5373871.732257261,5373865.670238341,5373859.925738831,5373854.482294859,5373849.324275583,5373844.4368437575,5373839.805917778,5373835.418135216,5373831.260817839,5373827.321938081,5373823.590086961,5373820.054443405,5373816.704744937,5373813.531259701,5373810.524759769,5373807.676495708,5373804.978172327,5373802.421925601,5373800.000300682,5373797.706231008,5373795.533018401,5373793.474314157,5373791.5241010785,5373789.676676386,5373787.926635486,5373786.268856563,5373784.698485934,5373783.21092416,5373781.801812831],\"type\":\"scatter\"},{\"mode\":\"lines\",\"name\":\"Expostos\",\"x\":[0,1,2,3,4,5,6,7,8,9,10,11,12,13,14,15,16,17,18,19,20,21,22,23,24,25,26,27,28,29,30,31,32,33,34,35,36,37,38,39,40,41,42,43,44,45,46,47,48,49,50,51,52,53,54,55,56,57,58,59,60,61,62,63,64,65,66,67,68,69,70,71,72,73,74,75,76,77,78,79,80,81,82,83,84,85,86,87,88,89,90,91,92,93,94,95,96,97,98,99,100,101,102,103,104,105,106,107,108,109,110,111,112,113,114,115,116,117,118,119,120,121,122,123,124,125,126,127,128,129,130,131,132,133,134,135,136,137,138,139,140,141,142,143,144,145,146,147,148,149,150,151],\"y\":[648856.0,573115.9462187169,561712.012011975,593423.4391516359,654876.4212091224,737039.9825645998,833082.4758621707,937102.1950641468,1043443.7608122916,1146433.9380862892,1240431.5847231967,1320104.382499458,1380837.9192511037,1419169.6203602913,1433138.397050685,1422461.9181009175,1388496.5536986967,1333989.4832362907,1262679.9661841253,1178833.7598445609,1086795.104779505,990620.1265599512,893824.8618540429,799251.7109344031,709037.1753763112,624653.3969805901,546994.6044360227,476483.8380554294,413181.92790421017,356887.43533299596,307221.7666190734,263697.6404513597,225771.5326518189,192882.0418195701,164476.6217739764,140029.1446520524,119050.51783095219,101094.22334952684,85758.27691525675,72684.76752119903,61557.84574584193,52100.787995235056,44072.58624434062,37264.371830113654,31495.87429715342,26612.04517761912,22479.920622811493,18985.7607647586,16032.47829828626,13537.35251937609,11430.014872248234,9650.686288935854,8148.643742585434,6880.8925270470745,5811.02125222097,4908.2177272258905,4146.425488456062,3503.622661493739,2961.206648907481,2503.4700825166983,2117.1551824338358,1791.0752932963173,1515.793866735934,1283.3524225716815,1087.040242760834,921.1995446796898,781.0607599676683,662.6033889794552,562.4384856816719,477.709475851595,406.0084817254067,345.30574066688,293.89010300862793,250.31887277350467,213.37553200058497,182.0341313836427,155.42927490563915,132.83085189223078,113.62274231509473,97.28488874226353,83.37819407070884,71.5318046936468,61.43239877966604,52.81516582042008,45.45620851545485,39.16614275778663,33.784706050465104,29.17621514450506,25.225738438467612,21.835870112185617,18.924011009722395,16.420076112814694,14.26456128816256,12.406912524872117,10.804150041366444,9.419707015204315,8.22244919214708,7.185846873876481,6.287275381363862,5.507423794372187,4.829795020875136,4.240282883299412,3.726814200573632,3.279045712079705,2.888107321358569,2.546384437136234,2.247333360689266,1.9853246153018127,1.7555098875760187,1.5537089474634522,1.37631348668423,1.2202052635688276,1.0826864081459477,0.961420001059489,0.8543793735079938,0.759804828811954,0.6761666483959584,0.6021334449831184,0.536545071847516,0.47838939734084385,0.4267823781333875,0.38095095474556356,0.3402183324448792,0.30399132270595075,0.2717494326626586,0.2430354521212253,0.21744732751586052,0.19463113467720064,0.1742749959747475,0.15610380962766482,0.13987467637593565,0.1253729263045121,0.1124086642832431,0.10081376125786255,0.09043923170188577,0.08115294477489811,0.07283762408469724,0.06538909805637243,0.05871476754949511,0.05273226228044775,0.047368261661094514,0.04255745697680566,0.03824164229872869,0.034368910834067665,0.030892946416967694,0.027772399638607732,0.024970336943543947,0.022453752419406746,0.020193136987611188,0.01816209622126601,0.016337013295810242,0.014696745939532227],\"type\":\"scatter\"},{\"mode\":\"lines\",\"name\":\"Mortes\",\"x\":[0,1,2,3,4,5,6,7,8,9,10,11,12,13,14,15,16,17,18,19,20,21,22,23,24,25,26,27,28,29,30,31,32,33,34,35,36,37,38,39,40,41,42,43,44,45,46,47,48,49,50,51,52,53,54,55,56,57,58,59,60,61,62,63,64,65,66,67,68,69,70,71,72,73,74,75,76,77,78,79,80,81,82,83,84,85,86,87,88,89,90,91,92,93,94,95,96,97,98,99,100,101,102,103,104,105,106,107,108,109,110,111,112,113,114,115,116,117,118,119,120,121,122,123,124,125,126,127,128,129,130,131,132,133,134,135,136,137,138,139,140,141,142,143,144,145,146,147,148,149,150,151],\"y\":[20500.0,20513.218174707672,20550.29747631145,20609.42874278081,20690.753816181725,20795.683297119434,20926.439035936583,21085.71695060046,21276.409024755805,21501.351845379017,21763.08875699266,22063.646785141096,22404.33900233874,22785.607997121464,23206.926319442533,23666.765386674535,24162.636571855357,24691.198939952825,25248.419771402496,25829.76841024081,26430.422223394955,27045.46521253134,27670.064248868748,28299.613443844635,28929.842624053188,29556.890355878502,30177.345063682827,30788.259523276785,31387.144600395717,31971.947924077038,32541.022513242606,33093.08949119429,33627.19810893758,34142.685451049925,34639.137475591066,35116.35246113424,35574.30748564347,36013.12823274886,36433.06218871195,36834.45514055264,37217.73078181436,37583.373178113216,37931.911818483335,38263.90897329516,38579.9490838032,38880.629927299684,39166.55532053672,39438.329147006836,39696.55051690306,39941.80989060704,40174.68601776304,40395.74356328441,40605.53130898016,40804.58083536012,40993.405601734274,41172.5003548944,41342.34080717924,41503.383533824184,41656.066047330045,41800.807013355625,41938.00657835906,42068.04678411278,42191.292048439645,42308.089694974806,42418.770517824334,42523.649369489925,42623.02576246125,42717.184476880786,42806.39616791561,42890.917967925125,42970.994079465585,43046.85635603039,43118.724868210615,43186.80845348728,43251.305248385754,43312.4032021602,43370.280571407275,43425.10639541179,43477.040952103736,43526.23619478901,43572.836169883114,43616.97741602134,43658.78934498015,43698.39460492151,43735.90942650663,43771.4439524625,43805.102551202566,43836.98411511555,43867.18234413852,43895.78601522926,43922.87923834572,43948.541699529735,43972.84889167913,43995.872333576,44017.67977772286,44038.33540751907,44057.9000242917,44076.431224674954,44093.983568813026,44110.60873984154,44126.35569508309,44141.27080937358,44155.39801091711,44168.77891004895,44181.452921268465,44193.45737888658,44204.82764661624,44215.59722141753,44225.79783189477,44235.459531527755,44244.610787004975,44253.27856191424,44261.48839603149,44269.26448043824,44276.62972868536,44283.60584420966,44290.213384199844,44296.47182009748,44302.39959490971,44308.01417750088,44313.332114022014,44318.36907662771,44323.139909624246,44327.658673182996,44331.938684747765,44335.99255825735,44339.83224129826,44343.469050296735,44346.91370385327,44350.176354317635,44353.266617697,44356.19360198523,44358.9659339964,44361.59178478161,44364.078893703634,44366.43459124044,44368.665820584385,44370.7791581009,44372.780832706645,44374.676744224205,44376.47248076736,44378.17333521005,44379.784320779974,44381.310185834234,44382.75542785299,44384.124306692385,44385.42085713834,44386.64890079996,44387.812057370014,44388.91375529389,44389.957241867,44390.94559281694],\"type\":\"scatter\"}],                        {\"title\":{\"font\":{\"color\":\"#7f7f7f\",\"family\":\"Arial\",\"size\":22},\"text\":\"Modelo SIR com exposi\\u00e7\\u00e3o\"},\"xaxis\":{\"title\":{\"text\":\"Dias\"}},\"yaxis\":{\"title\":{\"text\":\"Popula\\u00e7\\u00e3o em 1\\u00ba de Janeiro de 2022\"}},\"template\":{\"data\":{\"bar\":[{\"error_x\":{\"color\":\"#2a3f5f\"},\"error_y\":{\"color\":\"#2a3f5f\"},\"marker\":{\"line\":{\"color\":\"#E5ECF6\",\"width\":0.5},\"pattern\":{\"fillmode\":\"overlay\",\"size\":10,\"solidity\":0.2}},\"type\":\"bar\"}],\"barpolar\":[{\"marker\":{\"line\":{\"color\":\"#E5ECF6\",\"width\":0.5},\"pattern\":{\"fillmode\":\"overlay\",\"size\":10,\"solidity\":0.2}},\"type\":\"barpolar\"}],\"carpet\":[{\"aaxis\":{\"endlinecolor\":\"#2a3f5f\",\"gridcolor\":\"white\",\"linecolor\":\"white\",\"minorgridcolor\":\"white\",\"startlinecolor\":\"#2a3f5f\"},\"baxis\":{\"endlinecolor\":\"#2a3f5f\",\"gridcolor\":\"white\",\"linecolor\":\"white\",\"minorgridcolor\":\"white\",\"startlinecolor\":\"#2a3f5f\"},\"type\":\"carpet\"}],\"choropleth\":[{\"colorbar\":{\"outlinewidth\":0,\"ticks\":\"\"},\"type\":\"choropleth\"}],\"contour\":[{\"colorbar\":{\"outlinewidth\":0,\"ticks\":\"\"},\"colorscale\":[[0.0,\"#0d0887\"],[0.1111111111111111,\"#46039f\"],[0.2222222222222222,\"#7201a8\"],[0.3333333333333333,\"#9c179e\"],[0.4444444444444444,\"#bd3786\"],[0.5555555555555556,\"#d8576b\"],[0.6666666666666666,\"#ed7953\"],[0.7777777777777778,\"#fb9f3a\"],[0.8888888888888888,\"#fdca26\"],[1.0,\"#f0f921\"]],\"type\":\"contour\"}],\"contourcarpet\":[{\"colorbar\":{\"outlinewidth\":0,\"ticks\":\"\"},\"type\":\"contourcarpet\"}],\"heatmap\":[{\"colorbar\":{\"outlinewidth\":0,\"ticks\":\"\"},\"colorscale\":[[0.0,\"#0d0887\"],[0.1111111111111111,\"#46039f\"],[0.2222222222222222,\"#7201a8\"],[0.3333333333333333,\"#9c179e\"],[0.4444444444444444,\"#bd3786\"],[0.5555555555555556,\"#d8576b\"],[0.6666666666666666,\"#ed7953\"],[0.7777777777777778,\"#fb9f3a\"],[0.8888888888888888,\"#fdca26\"],[1.0,\"#f0f921\"]],\"type\":\"heatmap\"}],\"heatmapgl\":[{\"colorbar\":{\"outlinewidth\":0,\"ticks\":\"\"},\"colorscale\":[[0.0,\"#0d0887\"],[0.1111111111111111,\"#46039f\"],[0.2222222222222222,\"#7201a8\"],[0.3333333333333333,\"#9c179e\"],[0.4444444444444444,\"#bd3786\"],[0.5555555555555556,\"#d8576b\"],[0.6666666666666666,\"#ed7953\"],[0.7777777777777778,\"#fb9f3a\"],[0.8888888888888888,\"#fdca26\"],[1.0,\"#f0f921\"]],\"type\":\"heatmapgl\"}],\"histogram\":[{\"marker\":{\"pattern\":{\"fillmode\":\"overlay\",\"size\":10,\"solidity\":0.2}},\"type\":\"histogram\"}],\"histogram2d\":[{\"colorbar\":{\"outlinewidth\":0,\"ticks\":\"\"},\"colorscale\":[[0.0,\"#0d0887\"],[0.1111111111111111,\"#46039f\"],[0.2222222222222222,\"#7201a8\"],[0.3333333333333333,\"#9c179e\"],[0.4444444444444444,\"#bd3786\"],[0.5555555555555556,\"#d8576b\"],[0.6666666666666666,\"#ed7953\"],[0.7777777777777778,\"#fb9f3a\"],[0.8888888888888888,\"#fdca26\"],[1.0,\"#f0f921\"]],\"type\":\"histogram2d\"}],\"histogram2dcontour\":[{\"colorbar\":{\"outlinewidth\":0,\"ticks\":\"\"},\"colorscale\":[[0.0,\"#0d0887\"],[0.1111111111111111,\"#46039f\"],[0.2222222222222222,\"#7201a8\"],[0.3333333333333333,\"#9c179e\"],[0.4444444444444444,\"#bd3786\"],[0.5555555555555556,\"#d8576b\"],[0.6666666666666666,\"#ed7953\"],[0.7777777777777778,\"#fb9f3a\"],[0.8888888888888888,\"#fdca26\"],[1.0,\"#f0f921\"]],\"type\":\"histogram2dcontour\"}],\"mesh3d\":[{\"colorbar\":{\"outlinewidth\":0,\"ticks\":\"\"},\"type\":\"mesh3d\"}],\"parcoords\":[{\"line\":{\"colorbar\":{\"outlinewidth\":0,\"ticks\":\"\"}},\"type\":\"parcoords\"}],\"pie\":[{\"automargin\":true,\"type\":\"pie\"}],\"scatter\":[{\"marker\":{\"colorbar\":{\"outlinewidth\":0,\"ticks\":\"\"}},\"type\":\"scatter\"}],\"scatter3d\":[{\"line\":{\"colorbar\":{\"outlinewidth\":0,\"ticks\":\"\"}},\"marker\":{\"colorbar\":{\"outlinewidth\":0,\"ticks\":\"\"}},\"type\":\"scatter3d\"}],\"scattercarpet\":[{\"marker\":{\"colorbar\":{\"outlinewidth\":0,\"ticks\":\"\"}},\"type\":\"scattercarpet\"}],\"scattergeo\":[{\"marker\":{\"colorbar\":{\"outlinewidth\":0,\"ticks\":\"\"}},\"type\":\"scattergeo\"}],\"scattergl\":[{\"marker\":{\"colorbar\":{\"outlinewidth\":0,\"ticks\":\"\"}},\"type\":\"scattergl\"}],\"scattermapbox\":[{\"marker\":{\"colorbar\":{\"outlinewidth\":0,\"ticks\":\"\"}},\"type\":\"scattermapbox\"}],\"scatterpolar\":[{\"marker\":{\"colorbar\":{\"outlinewidth\":0,\"ticks\":\"\"}},\"type\":\"scatterpolar\"}],\"scatterpolargl\":[{\"marker\":{\"colorbar\":{\"outlinewidth\":0,\"ticks\":\"\"}},\"type\":\"scatterpolargl\"}],\"scatterternary\":[{\"marker\":{\"colorbar\":{\"outlinewidth\":0,\"ticks\":\"\"}},\"type\":\"scatterternary\"}],\"surface\":[{\"colorbar\":{\"outlinewidth\":0,\"ticks\":\"\"},\"colorscale\":[[0.0,\"#0d0887\"],[0.1111111111111111,\"#46039f\"],[0.2222222222222222,\"#7201a8\"],[0.3333333333333333,\"#9c179e\"],[0.4444444444444444,\"#bd3786\"],[0.5555555555555556,\"#d8576b\"],[0.6666666666666666,\"#ed7953\"],[0.7777777777777778,\"#fb9f3a\"],[0.8888888888888888,\"#fdca26\"],[1.0,\"#f0f921\"]],\"type\":\"surface\"}],\"table\":[{\"cells\":{\"fill\":{\"color\":\"#EBF0F8\"},\"line\":{\"color\":\"white\"}},\"header\":{\"fill\":{\"color\":\"#C8D4E3\"},\"line\":{\"color\":\"white\"}},\"type\":\"table\"}]},\"layout\":{\"annotationdefaults\":{\"arrowcolor\":\"#2a3f5f\",\"arrowhead\":0,\"arrowwidth\":1},\"autotypenumbers\":\"strict\",\"coloraxis\":{\"colorbar\":{\"outlinewidth\":0,\"ticks\":\"\"}},\"colorscale\":{\"diverging\":[[0,\"#8e0152\"],[0.1,\"#c51b7d\"],[0.2,\"#de77ae\"],[0.3,\"#f1b6da\"],[0.4,\"#fde0ef\"],[0.5,\"#f7f7f7\"],[0.6,\"#e6f5d0\"],[0.7,\"#b8e186\"],[0.8,\"#7fbc41\"],[0.9,\"#4d9221\"],[1,\"#276419\"]],\"sequential\":[[0.0,\"#0d0887\"],[0.1111111111111111,\"#46039f\"],[0.2222222222222222,\"#7201a8\"],[0.3333333333333333,\"#9c179e\"],[0.4444444444444444,\"#bd3786\"],[0.5555555555555556,\"#d8576b\"],[0.6666666666666666,\"#ed7953\"],[0.7777777777777778,\"#fb9f3a\"],[0.8888888888888888,\"#fdca26\"],[1.0,\"#f0f921\"]],\"sequentialminus\":[[0.0,\"#0d0887\"],[0.1111111111111111,\"#46039f\"],[0.2222222222222222,\"#7201a8\"],[0.3333333333333333,\"#9c179e\"],[0.4444444444444444,\"#bd3786\"],[0.5555555555555556,\"#d8576b\"],[0.6666666666666666,\"#ed7953\"],[0.7777777777777778,\"#fb9f3a\"],[0.8888888888888888,\"#fdca26\"],[1.0,\"#f0f921\"]]},\"colorway\":[\"#636efa\",\"#EF553B\",\"#00cc96\",\"#ab63fa\",\"#FFA15A\",\"#19d3f3\",\"#FF6692\",\"#B6E880\",\"#FF97FF\",\"#FECB52\"],\"font\":{\"color\":\"#2a3f5f\"},\"geo\":{\"bgcolor\":\"white\",\"lakecolor\":\"white\",\"landcolor\":\"#E5ECF6\",\"showlakes\":true,\"showland\":true,\"subunitcolor\":\"white\"},\"hoverlabel\":{\"align\":\"left\"},\"hovermode\":\"closest\",\"mapbox\":{\"style\":\"light\"},\"paper_bgcolor\":\"white\",\"plot_bgcolor\":\"#E5ECF6\",\"polar\":{\"angularaxis\":{\"gridcolor\":\"white\",\"linecolor\":\"white\",\"ticks\":\"\"},\"bgcolor\":\"#E5ECF6\",\"radialaxis\":{\"gridcolor\":\"white\",\"linecolor\":\"white\",\"ticks\":\"\"}},\"scene\":{\"xaxis\":{\"backgroundcolor\":\"#E5ECF6\",\"gridcolor\":\"white\",\"gridwidth\":2,\"linecolor\":\"white\",\"showbackground\":true,\"ticks\":\"\",\"zerolinecolor\":\"white\"},\"yaxis\":{\"backgroundcolor\":\"#E5ECF6\",\"gridcolor\":\"white\",\"gridwidth\":2,\"linecolor\":\"white\",\"showbackground\":true,\"ticks\":\"\",\"zerolinecolor\":\"white\"},\"zaxis\":{\"backgroundcolor\":\"#E5ECF6\",\"gridcolor\":\"white\",\"gridwidth\":2,\"linecolor\":\"white\",\"showbackground\":true,\"ticks\":\"\",\"zerolinecolor\":\"white\"}},\"shapedefaults\":{\"line\":{\"color\":\"#2a3f5f\"}},\"ternary\":{\"aaxis\":{\"gridcolor\":\"white\",\"linecolor\":\"white\",\"ticks\":\"\"},\"baxis\":{\"gridcolor\":\"white\",\"linecolor\":\"white\",\"ticks\":\"\"},\"bgcolor\":\"#E5ECF6\",\"caxis\":{\"gridcolor\":\"white\",\"linecolor\":\"white\",\"ticks\":\"\"}},\"title\":{\"x\":0.05},\"xaxis\":{\"automargin\":true,\"gridcolor\":\"white\",\"linecolor\":\"white\",\"ticks\":\"\",\"title\":{\"standoff\":15},\"zerolinecolor\":\"white\",\"zerolinewidth\":2},\"yaxis\":{\"automargin\":true,\"gridcolor\":\"white\",\"linecolor\":\"white\",\"ticks\":\"\",\"title\":{\"standoff\":15},\"zerolinecolor\":\"white\",\"zerolinewidth\":2}}},\"legend\":{\"orientation\":\"h\",\"y\":-0.15}},                        {\"responsive\": true}                    ).then(function(){\n",
              "                            \n",
              "var gd = document.getElementById('0901f3cb-2d09-46f6-aa5b-e778fad5a529');\n",
              "var x = new MutationObserver(function (mutations, observer) {{\n",
              "        var display = window.getComputedStyle(gd).display;\n",
              "        if (!display || display === 'none') {{\n",
              "            console.log([gd, 'removed!']);\n",
              "            Plotly.purge(gd);\n",
              "            observer.disconnect();\n",
              "        }}\n",
              "}});\n",
              "\n",
              "// Listen for the removal of the full notebook cells\n",
              "var notebookContainer = gd.closest('#notebook-container');\n",
              "if (notebookContainer) {{\n",
              "    x.observe(notebookContainer, {childList: true});\n",
              "}}\n",
              "\n",
              "// Listen for the clearing of the current output cell\n",
              "var outputEl = gd.closest('.output');\n",
              "if (outputEl) {{\n",
              "    x.observe(outputEl, {childList: true});\n",
              "}}\n",
              "\n",
              "                        })                };                            </script>        </div>\n",
              "</body>\n",
              "</html>"
            ]
          },
          "metadata": {}
        }
      ]
    },
    {
      "cell_type": "markdown",
      "source": [
        "### **Análise em PE levando em conta uma taxa de vacinação mais eficaz**"
      ],
      "metadata": {
        "id": "Et0Wv6Ym4G5j"
      }
    },
    {
      "cell_type": "code",
      "source": [
        "#Parâmetros para gerar a solução:\n",
        "alfa = 0.2      # probabilidade de uma pessoa ser hospitalizada\n",
        "beta = 2.2     # probabilidade de uma pessoa exposta se torna infectada\n",
        "gama = 1/20     # 1 / (tempo medio de infecção)\n",
        "sigma = 1/5.1   # taxa de incubação do vírus (1 / periodo_de_incubacao)\n",
        "csi = 0.024     # taxa de mortalidade\n",
        "Lambda = 1 / 14 # Tempo internado (em dias)\n",
        "delta = 1       # Eficácia da vacina \n",
        "N = 9674793     # População total\n",
        "i0 = 648856     # número inicial de infectados total acumulado (8)\n",
        "e0 = 0          # pessoas expostas inicialmente\n",
        "r0 = 0          # número inicial de recuperados\n",
        "v0 = 0          # número inicial de vacinados\n",
        "d0 = 20500      # número inicial de pessoas mortas\n",
        "t = np.arange(152) \n",
        "#gera um vetor (0,1,2,3..,151) que representa o valores de t usados para gerar a solução.\n",
        "\n",
        "solucao = SIR(t,alfa,beta,gama,sigma,Lambda,delta,csi,N,i0,r0,v0,d0,e0) \n",
        "#variável que armazenará S,I,R,C que são os valores retornados pela função SIR,\n",
        "#como a função retorna um array com cada elemento sendo S,I,R,C para analisar cada solução separadamente  \n",
        "#vamos definir as seguintes variáveis\n",
        "S = solucao[0]  #Suscetíves\n",
        "E = solucao[1]  #Expostas\n",
        "I = solucao[2]  #Infectados\n",
        "R = solucao[3]  #Recuperados\n",
        "C = solucao[4]  #Casos Acumulados\n",
        "D = solucao[5]  #Numero de mortes\n",
        "V = solucao[6]  #Numero de Vacinas Aplicadas\n",
        "\n",
        "#cada uma das variáveis trace abaixo armazena o conjunto de pontos gerada pela função SIR que queremos plotar. \n",
        "#Veja que como queremos plotar 4 conjuntos de dados diferentes S,I,R,C armazenamos cada um deles em uma varíavel.\n",
        "trace1 = go.Scatter(x=t, y=S,mode='lines',name='Suscetíveis',) \n",
        "\n",
        "trace2 = go.Scatter(x=t, y=I, mode='lines',name='Infectados',)\n",
        "\n",
        "trace3 = go.Scatter(x=t, y=R, mode='lines', name='Recuperados',)\n",
        "\n",
        "trace4 = go.Scatter(x=t, y=C,mode='lines',name='Casos acumulados',)\n",
        "\n",
        "trace5 = go.Scatter(x=t, y=E,mode='lines',name='Expostos',)\n",
        "\n",
        "trace6 = go.Scatter(x=t, y=D,mode = 'lines',name='Mortes',)\n",
        "\n",
        "trace7 = go.Scatter(x=t, y=V,mode = 'lines',name = 'Vacinados')\n",
        "\n",
        "layout = go.Layout( title = 'Modelo SIRV com exposição', #define o título do gráfico \n",
        "                  titlefont = {'family': 'Arial', 'size': 22,'color': '#7f7f7f'}, #define a fonte e cor e fonte do título\n",
        "                  xaxis = {'title': 'Dias'}, #título do eixo x\n",
        "                  yaxis = {'title': 'População em 1º de Janeiro de 2022'},  #título do eixo y\n",
        "                       )\n",
        "\n",
        "data=[trace1,trace2,trace3,trace4,trace5,trace6,trace7] #vetor que armazena os pontos que queremos plotar\n",
        "\n",
        "fig = go.Figure(data, layout = layout) #função que gera a figura\n",
        "       \n",
        "fig.update_layout(\n",
        "legend_orientation=\"h\", #define a localização da legenda\n",
        "legend=dict(\n",
        "         y=-0.15,       #coloca um recuo na legenda para que ela fique mais longe do título do eixo x.\n",
        "        ))\n",
        "\n",
        "fig.show() #mostra a figura\n",
        "\n",
        "R0 = beta/gama\n",
        "#Caso deseje que o R0 seja printado adicione o seguinte comando:\n",
        "#print('Para essas condições o R0 é:%f' %R0)"
      ],
      "metadata": {
        "colab": {
          "base_uri": "https://localhost:8080/",
          "height": 542
        },
        "id": "sqN6f94RX8QM",
        "outputId": "ba72639c-a2f3-48c2-921b-0ea894fc59f3"
      },
      "execution_count": null,
      "outputs": [
        {
          "output_type": "display_data",
          "data": {
            "text/html": [
              "<html>\n",
              "<head><meta charset=\"utf-8\" /></head>\n",
              "<body>\n",
              "    <div>            <script src=\"https://cdnjs.cloudflare.com/ajax/libs/mathjax/2.7.5/MathJax.js?config=TeX-AMS-MML_SVG\"></script><script type=\"text/javascript\">if (window.MathJax) {MathJax.Hub.Config({SVG: {font: \"STIX-Web\"}});}</script>                <script type=\"text/javascript\">window.PlotlyConfig = {MathJaxConfig: 'local'};</script>\n",
              "        <script src=\"https://cdn.plot.ly/plotly-2.8.3.min.js\"></script>                <div id=\"9c077655-24f2-4519-bfd7-2c09fa54857d\" class=\"plotly-graph-div\" style=\"height:525px; width:100%;\"></div>            <script type=\"text/javascript\">                                    window.PLOTLYENV=window.PLOTLYENV || {};                                    if (document.getElementById(\"9c077655-24f2-4519-bfd7-2c09fa54857d\")) {                    Plotly.newPlot(                        \"9c077655-24f2-4519-bfd7-2c09fa54857d\",                        [{\"mode\":\"lines\",\"name\":\"Suscet\\u00edveis\",\"x\":[0,1,2,3,4,5,6,7,8,9,10,11,12,13,14,15,16,17,18,19,20,21,22,23,24,25,26,27,28,29,30,31,32,33,34,35,36,37,38,39,40,41,42,43,44,45,46,47,48,49,50,51,52,53,54,55,56,57,58,59,60,61,62,63,64,65,66,67,68,69,70,71,72,73,74,75,76,77,78,79,80,81,82,83,84,85,86,87,88,89,90,91,92,93,94,95,96,97,98,99,100,101,102,103,104,105,106,107,108,109,110,111,112,113,114,115,116,117,118,119,120,121,122,123,124,125,126,127,128,129,130,131,132,133,134,135,136,137,138,139,140,141,142,143,144,145,146,147,148,149,150,151],\"y\":[9005437.0,8449236.833418977,7708669.288250008,6792404.8194568325,5702353.710175549,4476107.8146271,3215670.2819995773,2073814.3646056403,1186681.2383260506,602436.5860385287,274389.9136011572,114248.46232976657,44434.63555715928,16482.389239387303,5938.4516397778525,2109.9223208313792,748.3406231057609,267.5145220120168,97.10566450384633,35.995771797395165,13.683586065534548,5.350738156297624,2.1567920094189814,0.8973718056532708,0.38568701659158877,0.17128506142809002,0.07859376632942323,0.037245864025515135,0.018219259130704626,0.009192111581259977,0.0047791172755695735,0.0025580342907100895,0.0014081345544081866,0.000796340460444868,0.0004621663337730223,0.00027496164899302664,0.0001675136461280923,0.00010439325032519386,6.647922238169326e-05,4.321646275094448e-05,2.8650812681966107e-05,1.9352443740298318e-05,1.3306002371320807e-05,9.304572237013333e-06,6.6116231865205775e-06,4.77014290530897e-06,3.4916504981429183e-06,2.5911517331015584e-06,1.9480741949172878e-06,1.482798730719253e-06,1.1419399080948708e-06,8.892566814943498e-07,6.998133489112808e-07,5.562510583367999e-07,4.4634143296396983e-07,3.613736260661686e-07,2.950768877001341e-07,2.4289005704386833e-07,2.014637971656995e-07,1.6831500839143763e-07,1.4158671823888406e-07,1.1987800624358725e-07,1.0212348970686279e-07,8.750651007991163e-08,7.539637696462474e-08,6.530249309917643e-08,5.6840592916116036e-08,4.970769641075561e-08,4.366339270063461e-08,3.8515750203174926e-08,3.411064062668678e-08,3.0323594805517146e-08,2.705354958856776e-08,2.421801884457351e-08,2.1749340988521722e-08,1.9591746813848178e-08,1.7699055907392716e-08,1.603285691861308e-08,1.4561062934672692e-08,1.3256758947998833e-08,1.2097277843807854e-08,1.1063456308816688e-08,1.0139032903750944e-08,9.310159012338065e-09,8.56499989766407e-09,7.893407913465383e-09,7.286653781148195e-09,6.737204795224147e-09,6.238541073894086e-09,5.785002801133178e-09,5.371662787138916e-09,4.994219815974002e-09,4.6489090762375444e-09,4.332426724706935e-09,4.041866149057019e-09,3.7746639615641424e-09,3.5285541049022485e-09,3.3015287426885012e-09,3.091804850167014e-09,2.8977955876154518e-09,2.7180857188323515e-09,2.551410446673424e-09,2.396637148648344e-09,2.2527495785302736e-09,2.1188341667287265e-09,1.994068122277718e-09,1.8777090676659216e-09,1.7690859974201917e-09,1.6675913717002172e-09,1.5726741900534979e-09,1.4838339117640452e-09,1.400615109219797e-09,1.3226027573453665e-09,1.2494180759232384e-09,1.1807148534838497e-09,1.1161761914028255e-09,1.055511615330292e-09,9.984545082994472e-10,9.447598260200064e-10,8.94202060255503e-10,8.465734199677248e-10,8.016822050907977e-10,7.593513506751689e-10,7.194171220508715e-10,6.81727939712816e-10,6.461433249722979e-10,6.12532950111694e-10,5.807757813420604e-10,5.507593048785333e-10,5.223788270090682e-10,4.955368402048777e-10,4.701424487819094e-10,4.4611084726115607e-10,4.233628462305725e-10,4.018244408935845e-10,3.8142641775052236e-10,3.621039960219327e-10,3.437965000604799e-10,3.264470597510428e-10,3.10002336248988e-10,2.9441227056725467e-10,2.7962985288616e-10,2.6561091061014113e-10,2.523139122971061e-10,2.3969979310063814e-10,2.2773178311271858e-10,2.1637525899599297e-10,2.055976019303633e-10,1.9536806591021456e-10,1.8565766101237133e-10,1.7643903692827775e-10,1.6768638543989014e-10],\"type\":\"scatter\"},{\"mode\":\"lines\",\"name\":\"Infectados\",\"x\":[0,1,2,3,4,5,6,7,8,9,10,11,12,13,14,15,16,17,18,19,20,21,22,23,24,25,26,27,28,29,30,31,32,33,34,35,36,37,38,39,40,41,42,43,44,45,46,47,48,49,50,51,52,53,54,55,56,57,58,59,60,61,62,63,64,65,66,67,68,69,70,71,72,73,74,75,76,77,78,79,80,81,82,83,84,85,86,87,88,89,90,91,92,93,94,95,96,97,98,99,100,101,102,103,104,105,106,107,108,109,110,111,112,113,114,115,116,117,118,119,120,121,122,123,124,125,126,127,128,129,130,131,132,133,134,135,136,137,138,139,140,141,142,143,144,145,146,147,148,149,150,151],\"y\":[0.0,119795.20744771814,252375.81281775644,430859.6445951903,681871.3418985553,1023950.6938201522,1459656.5099057308,1967444.5772074056,2502632.3834071504,3011686.3907514527,3451311.628553423,3799046.700405137,4051675.789390558,4217651.39762164,4310079.829184543,4342560.492441396,4327378.078804735,4274982.8541013645,4194021.3925016513,4091551.219055171,3973289.213211544,3843841.6912399987,3706902.476969019,3565418.6515856143,3421727.650847916,3277670.095938187,3134682.4374864777,2993872.929875767,2856083.8836157564,2721942.6385009442,2591903.272117246,2466280.7017167346,2345278.5427637007,2229011.844600248,2117525.6238782937,2010809.9520037465,1908812.2180133555,1811447.0768666838,1718604.5024755902,1630156.2892471622,1545961.2846289012,1465869.5846715108,1389725.8825971554,1317372.1264806518,1248649.6143765508,1183400.6312664133,1121469.7141956992,1062704.6161403533,1006957.0260867502,954083.0925766618,903943.789342904,856405.1545768287,811338.4295550705,768620.1176150013,728131.9805500449,689760.9863464831,653399.2195076476,618943.7631020686,586296.5599161112,555364.2586324974,526058.0498063827,498293.4954416303,471990.35518334236,447072.41151624394,423467.29583147855,401106.3168048352,379924.29219166096,359859.384862141,340852.94368075015,322849.3496549916,305795.8676325104,289642.50371360214,274341.8684548796,259849.04586788127,246121.4681620727,233118.79613823042,220802.80510588645,209137.2761748493,198087.89275312636,187622.14207189187,177709.22155060657,168319.94981113484,159426.68214840183,151003.23026578777,143024.78608582783,135467.8494503978,128310.15952911954,121530.62976001565,115109.28615213177,109027.20878598311,103266.47635388495,97810.11358873945,92642.0414360147,87747.02983021326,83110.65294322472,78719.24677812241,74559.86898787162,70620.26080415178,66888.81096728264,63354.52155316911,60006.97559876344,56836.306432220495,53833.16861874621,50988.71043767208,48294.54781033725,45742.73960319971,43325.76423338547,41036.4975087071,38868.19163701478,36814.455343457965,34869.235037300925,33026.79697302621,31281.710353335788,29628.83132440142,28063.287816322136,26580.465184208977,25175.992607662178,23845.73020862373,22585.756849692592,21392.358577032614,20262.01767355131,19191.40229040167,18177.35662677236,17216.891629564936,16307.1761805606,15445.528752265773,14629.409504421117,13856.412797554003,13124.260102206945,12430.793282640858,11773.968235053462,11151.848862875726,10562.601369862066,10004.488854715742,9475.866191486162,8975.175179823595,8500.939952263041,8051.762624002014,7626.319172395403,7223.355534260539,6841.683909212932,6480.179258275436,6137.775987276862,5813.464799008458,5506.289745231616,5215.345372426771,4939.774078318509,4678.763574132453,4431.544483414286,4197.388095467896,3975.6041861455356,3765.5390236633307],\"type\":\"scatter\"},{\"mode\":\"lines\",\"name\":\"Recuperados\",\"x\":[0,1,2,3,4,5,6,7,8,9,10,11,12,13,14,15,16,17,18,19,20,21,22,23,24,25,26,27,28,29,30,31,32,33,34,35,36,37,38,39,40,41,42,43,44,45,46,47,48,49,50,51,52,53,54,55,56,57,58,59,60,61,62,63,64,65,66,67,68,69,70,71,72,73,74,75,76,77,78,79,80,81,82,83,84,85,86,87,88,89,90,91,92,93,94,95,96,97,98,99,100,101,102,103,104,105,106,107,108,109,110,111,112,113,114,115,116,117,118,119,120,121,122,123,124,125,126,127,128,129,130,131,132,133,134,135,136,137,138,139,140,141,142,143,144,145,146,147,148,149,150,151],\"y\":[0.0,3262.3529678662553,13161.710247871484,31318.722802519012,60953.78721831978,106529.88743486477,173122.07811127804,265317.08204096655,385879.6339356711,534838.56267989,709535.689862101,905521.5616662316,1117681.5669439265,1341078.830294244,1571383.3274247367,1804997.8281634492,2039027.674967305,2271192.073351232,2499724.5594712,2723281.121757689,2940861.1963174082,3151741.6849321174,3355422.540538217,3551582.153684648,3740040.8877166435,3920731.335457051,4093674.1007029316,4258958.113108055,4416724.659183746,4567154.457198424,4710457.223634464,4846863.277615741,4976616.810952035,5099970.518226563,5217181.336222951,5328507.087097647,5434203.85667401,5534523.969769986,5629714.4492996,5720015.866559193,5805661.506866108,5886876.788505707,5963878.884407249,6036876.5052021,6106069.809877524,6171650.416744075,6233801.492314298,6292697.899980075,6348506.393889299,6401385.846179704,6451487.498037653,6498955.226941379,6543925.823992595,6586529.276491932,6626889.051942399,6665122.380485492,6701340.533465916,6735649.096359847,6768148.234745328,6798932.952356893,6828093.340547754,6855714.818715812,6881878.3654339975,6906660.74016814,6930134.695581658,6952369.180514742,6973429.533793311,6993377.66907587,7012272.250984049,7030168.862790161,7047120.165954351,7063176.0518154595,7078383.785746326,7092788.144086334,7106431.544162643,7119354.167707592,7131594.0779737905,7143187.330840957,7154168.080199914,7164568.677889772,7174419.768454531,7183750.378974976,7192588.004221469,7200958.687362922,7208887.096456774,7216396.596934855,7223509.320290033,7230246.229158826,7236627.178986011,7242670.9764480395,7248395.434803549,7253817.426330718,7258952.932003486,7263817.088550711,7268424.233035237,7272787.945082709,7276921.086883452,7280835.841084308,7284543.746681119,7288055.733017251,7291382.151987591,7294532.808542583,7297516.989581806,7300343.491321909,7303020.645219567,7305556.342525108,7307958.0575396735,7310232.869643854,7312387.484162826,7314428.252129329,7316361.189002682,7318191.992398935,7319926.058884382,7321568.499881877,7323124.156736808,7324597.614987129,7325993.217879444,7327315.079171014,7328567.095255364,7329752.956647211,7330876.158860813,7331940.012713537,7332947.654084499,7333902.053156523,7334806.02317362,7335662.228732694,7336473.193637328,7337241.308337113,7337968.836973777,7338657.924055182,7339310.600777018,7339928.791009532,7340514.316968462,7341068.904586322,7341594.188599712,7342091.717368476,7342562.957439429,7343009.29786914,7343432.054318425,7343832.472930415,7344211.734003878,7344570.955472518,7344911.196200627,7345233.459111066,7345538.694114632,7345827.800946298,7346101.631791993,7346360.9938103175,7346606.651518564,7346839.329025095,7347059.712194789,7347268.450630629],\"type\":\"scatter\"},{\"mode\":\"lines\",\"name\":\"Casos acumulados\",\"x\":[0,1,2,3,4,5,6,7,8,9,10,11,12,13,14,15,16,17,18,19,20,21,22,23,24,25,26,27,28,29,30,31,32,33,34,35,36,37,38,39,40,41,42,43,44,45,46,47,48,49,50,51,52,53,54,55,56,57,58,59,60,61,62,63,64,65,66,67,68,69,70,71,72,73,74,75,76,77,78,79,80,81,82,83,84,85,86,87,88,89,90,91,92,93,94,95,96,97,98,99,100,101,102,103,104,105,106,107,108,109,110,111,112,113,114,115,116,117,118,119,120,121,122,123,124,125,126,127,128,129,130,131,132,133,134,135,136,137,138,139,140,141,142,143,144,145,146,147,148,149,150,151],\"y\":[0.0,123057.5604155844,265537.5230656279,462178.3673977093,742825.1291168751,1130480.5812550168,1632778.588017009,2232761.659248372,2888512.0173428217,3546524.9534313427,4160847.318415524,4704568.262071369,5169357.356334484,5558730.227915884,5881463.15660928,6147558.320604846,6366405.75377204,6546174.927452596,6693745.9519728515,6814832.34081286,6914150.409528952,6995583.376172116,7062325.017507236,7117000.805270262,7161768.538564559,7198401.431395238,7228356.538189409,7252831.042983822,7272808.542799503,7289097.095699368,7302360.49575171,7313143.979332475,7321895.3537157355,7328982.362826811,7334706.960101245,7339317.039101393,7343016.074687365,7345971.04663667,7348318.95177519,7350172.155806355,7351622.791495008,7352746.373177217,7353604.767004404,7354248.631682752,7354719.424254075,7355051.048010488,7355271.206509997,7355402.516120428,7355463.419976049,7355468.938756366,7355431.2873805575,7355360.3815182075,7355264.253547666,7355149.394106933,7355021.032492444,7354883.366831975,7354739.752973564,7354592.859461916,7354444.79466144,7354297.21098939,7354151.390354137,7354008.314157442,7353868.72061734,7353733.151684384,7353601.991413136,7353475.497319577,7353353.825984972,7353237.053938011,7353125.1946648,7353018.212445152,7352916.033586862,7352818.555529062,7352725.654201206,7352637.189954216,7352553.012324716,7352472.963845823,7352396.883079677,7352324.607015806,7352255.97295304,7352190.819961663,7352128.990005137,7352070.3287861105,7352014.686369871,7351961.91762871,7351911.882542602,7351864.446385253,7351819.4798191525,7351776.858918842,7351736.465138143,7351698.185234022,7351661.911157434,7351627.539919457,7351594.973439501,7351564.118380925,7351534.885978461,7351507.191860831,7351480.955871323,7351456.10188846,7351432.557648402,7351410.25457042,7351389.1275863545,7351369.114974803,7351350.158200552,7351332.201759581,7351315.193029905,7351299.082128308,7351283.821773059,7351269.367152561,7351255.675799841,7351242.707472787,7351230.424039983,7351218.789371962,7351207.769237718,7351197.331206278,7351187.44455313,7351178.080171338,7351169.210487107,7351160.809379638,7351152.852105056,7351145.315224243,7351138.176534364,7351131.415003939,7351125.010711271,7351118.944786088,7351113.19935418,7351107.757484959,7351102.603141749,7351097.721134667,7351093.097075984,7351088.7173378235,7351084.569012071,7351080.6398724085,7351076.918338325,7351073.393441037,7351070.054791198,7351066.892548299,7351063.897391692,7351061.060493142,7351058.373490821,7351055.828464675,7351053.417913091,7351051.134730794,7351048.972187904,7351046.923910074,7351044.983859863,7351043.146318724,7351041.405870312,7351039.75738445,7351038.196001978,7351036.717120564,7351035.316380935,7351033.989654292],\"type\":\"scatter\"},{\"mode\":\"lines\",\"name\":\"Expostos\",\"x\":[0,1,2,3,4,5,6,7,8,9,10,11,12,13,14,15,16,17,18,19,20,21,22,23,24,25,26,27,28,29,30,31,32,33,34,35,36,37,38,39,40,41,42,43,44,45,46,47,48,49,50,51,52,53,54,55,56,57,58,59,60,61,62,63,64,65,66,67,68,69,70,71,72,73,74,75,76,77,78,79,80,81,82,83,84,85,86,87,88,89,90,91,92,93,94,95,96,97,98,99,100,101,102,103,104,105,106,107,108,109,110,111,112,113,114,115,116,117,118,119,120,121,122,123,124,125,126,127,128,129,130,131,132,133,134,135,136,137,138,139,140,141,142,143,144,145,146,147,148,149,150,151],\"y\":[648856.0,644773.4173293179,838122.4039546124,1194364.033839172,1690523.0154343578,2273954.03391672,2839531.718911779,3249405.1575730187,3399754.059057092,3281532.9004858783,2973116.779737836,2579092.9975451897,2179055.3072693585,1814801.1140828817,1500630.992128478,1236694.4158232266,1017655.4257590882,836868.1086926471,688006.5606744888,565557.2983379212,464877.4667071216,382112.04816742026,314078.84375868033,258157.46659307778,212192.38383119373,174411.2359954252,143357.00346841983,117832.00328355061,96851.76769667877,79607.10156832209,65432.882924434634,53782.41375625283,44206.33576576613,36335.2994124617,29865.71842886856,24548.06067288618,20177.223681996384,16584.62395167771,13631.694612579322,11204.540916008855,9209.547356845542,7569.766858771971,6221.952935756788,5114.120332072744,4203.539809602349,3455.090163647965,2839.9036425199993,2334.2524586930567,1918.6335999417886,1577.0166062949709,1296.2252798917687,1065.4294756826473,875.7273803706282,719.8021655001744,591.6397835671834,486.29699996973545,399.7107335541788,328.5413454923364,270.0438257520318,221.96191978588212,182.44110469171363,149.9570588077907,123.2568697818235,101.31070909754663,83.27211119945903,68.44532595418853,56.25848294592163,46.2415344706879,38.0081260661565,31.240694405306016,25.678219028552743,21.106154831956353,17.348156859309693,14.25927880810142,11.720382399834268,9.633542152761828,7.918268471789226,6.508403102735147,5.349567401887576,4.397064987716902,3.614157755214066,2.9706488990967714,2.441718233834414,2.0069648532672737,1.6496202813991436,1.3559017095667558,1.1144803839222994,0.9160446641963931,0.752940867887389,0.6188780694044532,0.5086854487012933,0.4181128711081743,0.3436669426502336,0.28247627785208035,0.2321807465982046,0.19084044744104042,0.15686088241053656,0.12893145318106558,0.10597492156370172,0.08710585106123037,0.07159646077120112,0.058848551727436985,0.04837043622481221,0.03975797392682159,0.03267897836172276,0.026860413964695806,0.022077857868845863,0.018146846180386946,0.014915760157249384,0.012259975977883492,0.010077060073481237,0.008282817252501956,0.006808043255796872,0.0055958560891690955,0.0045995015227684585,0.003780550077187324,0.003107414773584369,0.0025541326876769425,0.002099363705263803,0.001725567552822835,0.001418326675728094,0.0011657902700280731,0.0009582178671933587,0.0007876046387732197,0.0006473697308161595,0.0005321039636422402,0.00043736151731867313,0.0003594882207463225,0.00029548041762081053,0.00024286941913666696,0.0001996259490649369,0.00016408206539351682,0.0001348668330180441,0.00011085344869666692,9.111572401620033e-05,7.48923530704278e-05,6.15575897174192e-05,5.059710948127061e-05,4.1588163884946245e-05,3.418328663595482e-05,2.8096872033451637e-05,2.309415747415201e-05,1.898216398247066e-05,1.5602031022729013e-05,1.2823881366451697e-05,1.0540490355447506e-05,8.663838765554182e-06,7.121589993727193e-06,5.853854611761246e-06,4.811765069553577e-06,3.955030747895843e-06,3.2510082295596435e-06],\"type\":\"scatter\"},{\"mode\":\"lines\",\"name\":\"Mortes\",\"x\":[0,1,2,3,4,5,6,7,8,9,10,11,12,13,14,15,16,17,18,19,20,21,22,23,24,25,26,27,28,29,30,31,32,33,34,35,36,37,38,39,40,41,42,43,44,45,46,47,48,49,50,51,52,53,54,55,56,57,58,59,60,61,62,63,64,65,66,67,68,69,70,71,72,73,74,75,76,77,78,79,80,81,82,83,84,85,86,87,88,89,90,91,92,93,94,95,96,97,98,99,100,101,102,103,104,105,106,107,108,109,110,111,112,113,114,115,116,117,118,119,120,121,122,123,124,125,126,127,128,129,130,131,132,133,134,135,136,137,138,139,140,141,142,143,144,145,146,147,148,149,150,151],\"y\":[20500.0,20514.514706001108,20558.558456611303,20639.34177518071,20771.192697369654,20973.96771951954,21270.24653396968,21680.436170097535,22216.83735437482,22879.5783509063,23656.83251845427,24528.80355826079,25472.735785131892,26466.664287326104,27491.324126254138,28530.710676150946,29571.94516404945,30604.87998736777,31621.65587900323,32616.293126464298,33584.34006836136,34522.57953041832,35428.786726970895,36301.53076851223,37140.012424163055,37943.93178910978,38713.380532788484,39448.75431679433,40150.681746368384,40819.96686465403,41457.54273227201,42064.43407413787,42641.72733686289,43190.54679719448,43712.03560607672,44207.34085361243,44677.601904693714,45123.9413909258,45547.45835493468,45949.22313511507,46330.27365342972,46691.61283021607,47034.20690096446,47358.98445111104,47666.83601852289,47958.61414229356,48235.13375817803,48497.172860080835,48745.47336264306,48980.7421122402,49203.652003981086,49414.843170713764,49614.92421691621,49804.47347591749,49984.04027347254,50154.146184363424,50315.286271776335,50467.93030160102,50612.52392577372,50749.48983040144,50879.2288456574,51002.12101547291,51118.526625871615,51228.78719142606,51333.226399833664,51432.15101500205,51525.85173933466,51614.604036142664,51698.66891327652,51778.29366919354,51853.71260276304,51925.14768816203,51992.80921624427,52056.89640377397,52117.597971910094,52175.092695309235,52229.549923188504,52281.13007365683,52329.98510258439,52376.25894823842,52420.08795286976,52461.601262388685,52500.92120522266,52538.16365140284,52573.43835287972,52606.84926602373,52638.494857222606,52668.46839244393,52696.858211590305,52723.74798843407,52749.216976880205,52773.34024426803,52796.18889238839,52817.83026685698,52838.3281554534,52857.74297600358,52876.13195435435,52893.54929295985,52910.046330572775,52925.67169350896,52940.47143892785,52954.48919054963,52967.76626720719,52980.341804610194,52992.252870680284,53003.53457479392,53014.22017125703,53024.34115731377,53033.92736597869,53043.00705396525,53051.60698496957,53059.7525085546,53067.46763486697,53074.77510540666,53081.69646005785,53088.25210057834,53094.46135073483,53100.34251326088,53105.91292380566,53111.1890020321,53116.18630001635,53120.91954808991,53125.40269825733,53129.648965315064,53133.67086581486,53137.48025495481,53141.08836152204,53144.50582099141,53147.74270687488,53150.808560415026,53153.71241871134,53156.46284135599,53159.06793566479,53161.53538057476,53163.8724492784,53166.086030664854,53168.1826496246,53170.168486282215,53172.049394213354,53173.8309176989,53175.51830806812,53177.1165391786,53178.630322079094,53180.06411892638,53181.42215601852,53182.708436413646,53183.92675161695,53185.08069280017,53186.17366141737,53187.20887913711,53188.18939747685,53189.11810661936],\"type\":\"scatter\"},{\"mode\":\"lines\",\"name\":\"Vacinados\",\"x\":[0,1,2,3,4,5,6,7,8,9,10,11,12,13,14,15,16,17,18,19,20,21,22,23,24,25,26,27,28,29,30,31,32,33,34,35,36,37,38,39,40,41,42,43,44,45,46,47,48,49,50,51,52,53,54,55,56,57,58,59,60,61,62,63,64,65,66,67,68,69,70,71,72,73,74,75,76,77,78,79,80,81,82,83,84,85,86,87,88,89,90,91,92,93,94,95,96,97,98,99,100,101,102,103,104,105,106,107,108,109,110,111,112,113,114,115,116,117,118,119,120,121,122,123,124,125,126,127,128,129,130,131,132,133,134,135,136,137,138,139,140,141,142,143,144,145,146,147,148,149,150,151],\"y\":[0.0,437257.9410765673,842305.3988292776,1206618.255744465,1521871.719859835,1780753.0398834809,1979619.474748611,2121619.250766122,2217658.4228807655,2283518.2161797225,2334814.4924915,2383344.216134787,2436368.9357619234,2497739.999339015,2569301.1816348513,2651862.905402285,2745726.1571397223,2850930.392646617,2967366.939881349,3094833.850987985,3233066.034065134,3381754.397058495,3540559.430221221,3709121.46185274,3887068.6221248284,4074023.084326753,4269605.953792076,4473441.074676438,4685157.964379728,4904394.043369959,5130796.296285491,5364022.474952991,5603741.9335790435,5849636.169772009,6101399.131477975,6358737.338792737,6621369.860518941,6889028.177847233,7161455.961462171,7438408.783330851,7719653.7803547345,8004969.283721415,8294144.425027267,8586978.728023026,8883281.693025853,9182872.379500326,9485578.991162362,9791238.466951286,10099696.080411246,10410805.049389074,10724426.157437475,11040427.387893133,11358683.571264364,11679076.046298202,12001492.33488491,12325825.8307952,12651975.502113577,12979845.607134275,13309345.423411213,13640388.989597159,13972894.859668635,14306785.869105557,14641988.912577484,14978434.732679645,15316057.719258904,15654795.718872158,15994589.853925586,16335384.35105219,16677126.378296133,17019765.89068506,17363255.483785465,17707550.254850846,18052607.671187136,18398387.445375472,18744851.417007368,19091963.44060252,19439689.279394418,19787996.504683398,20136854.400470912,20486233.873102546,20836107.36566048,21186448.776858926,21537233.38420817,21888437.771224756,22240039.75847638,22592018.338260993,22944353.612729624,23297026.735272486,23650019.85499694,24003316.064134877,24356899.34822555,24710754.538927782,25064867.269323178,25419223.931579035,25773811.63684676,26128618.177277863,26483631.990045875,26838842.123268347,27194238.20372893,27549810.40630418,27905549.425005447,28261446.445550397,28617493.1193835,28973681.539068986,29330004.214983657,29686454.053241275,30043024.33478299,30399708.69557264,30756501.107838295,31113395.862304974,31470387.551366016,31827471.05314365,32184641.516391695,32541894.34619595,32899225.190430164,33256629.92692755,33614104.65133019,33971645.66558041,34329249.46702022,34686912.738066785,35044632.3364332,35402405.28586597,35760228.76737242,36118100.110912524,36476016.78752637,36833976.40188023,37191976.68520642,37550015.48861566,37908090.77676297,38266200.62184805,38624343.197932355,38982516.77555738,39340719.71664676,39698950.46967771,40057207.565107845,40415489.61104297,40773795.28913452,41132123.35069363,41490472.613010354,41848841.95586753,42207230.318238616,42565636.69515999,42924060.13476833,43282499.735488735,43640954.64340137,43999424.049691804,44357907.18828973,44716403.33360203,45074911.79836788,45433431.93165196,45791963.11689783,46150504.770146586],\"type\":\"scatter\"}],                        {\"title\":{\"font\":{\"color\":\"#7f7f7f\",\"family\":\"Arial\",\"size\":22},\"text\":\"Modelo SIRV com exposi\\u00e7\\u00e3o\"},\"xaxis\":{\"title\":{\"text\":\"Dias\"}},\"yaxis\":{\"title\":{\"text\":\"Popula\\u00e7\\u00e3o em 1\\u00ba de Janeiro de 2022\"}},\"template\":{\"data\":{\"bar\":[{\"error_x\":{\"color\":\"#2a3f5f\"},\"error_y\":{\"color\":\"#2a3f5f\"},\"marker\":{\"line\":{\"color\":\"#E5ECF6\",\"width\":0.5},\"pattern\":{\"fillmode\":\"overlay\",\"size\":10,\"solidity\":0.2}},\"type\":\"bar\"}],\"barpolar\":[{\"marker\":{\"line\":{\"color\":\"#E5ECF6\",\"width\":0.5},\"pattern\":{\"fillmode\":\"overlay\",\"size\":10,\"solidity\":0.2}},\"type\":\"barpolar\"}],\"carpet\":[{\"aaxis\":{\"endlinecolor\":\"#2a3f5f\",\"gridcolor\":\"white\",\"linecolor\":\"white\",\"minorgridcolor\":\"white\",\"startlinecolor\":\"#2a3f5f\"},\"baxis\":{\"endlinecolor\":\"#2a3f5f\",\"gridcolor\":\"white\",\"linecolor\":\"white\",\"minorgridcolor\":\"white\",\"startlinecolor\":\"#2a3f5f\"},\"type\":\"carpet\"}],\"choropleth\":[{\"colorbar\":{\"outlinewidth\":0,\"ticks\":\"\"},\"type\":\"choropleth\"}],\"contour\":[{\"colorbar\":{\"outlinewidth\":0,\"ticks\":\"\"},\"colorscale\":[[0.0,\"#0d0887\"],[0.1111111111111111,\"#46039f\"],[0.2222222222222222,\"#7201a8\"],[0.3333333333333333,\"#9c179e\"],[0.4444444444444444,\"#bd3786\"],[0.5555555555555556,\"#d8576b\"],[0.6666666666666666,\"#ed7953\"],[0.7777777777777778,\"#fb9f3a\"],[0.8888888888888888,\"#fdca26\"],[1.0,\"#f0f921\"]],\"type\":\"contour\"}],\"contourcarpet\":[{\"colorbar\":{\"outlinewidth\":0,\"ticks\":\"\"},\"type\":\"contourcarpet\"}],\"heatmap\":[{\"colorbar\":{\"outlinewidth\":0,\"ticks\":\"\"},\"colorscale\":[[0.0,\"#0d0887\"],[0.1111111111111111,\"#46039f\"],[0.2222222222222222,\"#7201a8\"],[0.3333333333333333,\"#9c179e\"],[0.4444444444444444,\"#bd3786\"],[0.5555555555555556,\"#d8576b\"],[0.6666666666666666,\"#ed7953\"],[0.7777777777777778,\"#fb9f3a\"],[0.8888888888888888,\"#fdca26\"],[1.0,\"#f0f921\"]],\"type\":\"heatmap\"}],\"heatmapgl\":[{\"colorbar\":{\"outlinewidth\":0,\"ticks\":\"\"},\"colorscale\":[[0.0,\"#0d0887\"],[0.1111111111111111,\"#46039f\"],[0.2222222222222222,\"#7201a8\"],[0.3333333333333333,\"#9c179e\"],[0.4444444444444444,\"#bd3786\"],[0.5555555555555556,\"#d8576b\"],[0.6666666666666666,\"#ed7953\"],[0.7777777777777778,\"#fb9f3a\"],[0.8888888888888888,\"#fdca26\"],[1.0,\"#f0f921\"]],\"type\":\"heatmapgl\"}],\"histogram\":[{\"marker\":{\"pattern\":{\"fillmode\":\"overlay\",\"size\":10,\"solidity\":0.2}},\"type\":\"histogram\"}],\"histogram2d\":[{\"colorbar\":{\"outlinewidth\":0,\"ticks\":\"\"},\"colorscale\":[[0.0,\"#0d0887\"],[0.1111111111111111,\"#46039f\"],[0.2222222222222222,\"#7201a8\"],[0.3333333333333333,\"#9c179e\"],[0.4444444444444444,\"#bd3786\"],[0.5555555555555556,\"#d8576b\"],[0.6666666666666666,\"#ed7953\"],[0.7777777777777778,\"#fb9f3a\"],[0.8888888888888888,\"#fdca26\"],[1.0,\"#f0f921\"]],\"type\":\"histogram2d\"}],\"histogram2dcontour\":[{\"colorbar\":{\"outlinewidth\":0,\"ticks\":\"\"},\"colorscale\":[[0.0,\"#0d0887\"],[0.1111111111111111,\"#46039f\"],[0.2222222222222222,\"#7201a8\"],[0.3333333333333333,\"#9c179e\"],[0.4444444444444444,\"#bd3786\"],[0.5555555555555556,\"#d8576b\"],[0.6666666666666666,\"#ed7953\"],[0.7777777777777778,\"#fb9f3a\"],[0.8888888888888888,\"#fdca26\"],[1.0,\"#f0f921\"]],\"type\":\"histogram2dcontour\"}],\"mesh3d\":[{\"colorbar\":{\"outlinewidth\":0,\"ticks\":\"\"},\"type\":\"mesh3d\"}],\"parcoords\":[{\"line\":{\"colorbar\":{\"outlinewidth\":0,\"ticks\":\"\"}},\"type\":\"parcoords\"}],\"pie\":[{\"automargin\":true,\"type\":\"pie\"}],\"scatter\":[{\"marker\":{\"colorbar\":{\"outlinewidth\":0,\"ticks\":\"\"}},\"type\":\"scatter\"}],\"scatter3d\":[{\"line\":{\"colorbar\":{\"outlinewidth\":0,\"ticks\":\"\"}},\"marker\":{\"colorbar\":{\"outlinewidth\":0,\"ticks\":\"\"}},\"type\":\"scatter3d\"}],\"scattercarpet\":[{\"marker\":{\"colorbar\":{\"outlinewidth\":0,\"ticks\":\"\"}},\"type\":\"scattercarpet\"}],\"scattergeo\":[{\"marker\":{\"colorbar\":{\"outlinewidth\":0,\"ticks\":\"\"}},\"type\":\"scattergeo\"}],\"scattergl\":[{\"marker\":{\"colorbar\":{\"outlinewidth\":0,\"ticks\":\"\"}},\"type\":\"scattergl\"}],\"scattermapbox\":[{\"marker\":{\"colorbar\":{\"outlinewidth\":0,\"ticks\":\"\"}},\"type\":\"scattermapbox\"}],\"scatterpolar\":[{\"marker\":{\"colorbar\":{\"outlinewidth\":0,\"ticks\":\"\"}},\"type\":\"scatterpolar\"}],\"scatterpolargl\":[{\"marker\":{\"colorbar\":{\"outlinewidth\":0,\"ticks\":\"\"}},\"type\":\"scatterpolargl\"}],\"scatterternary\":[{\"marker\":{\"colorbar\":{\"outlinewidth\":0,\"ticks\":\"\"}},\"type\":\"scatterternary\"}],\"surface\":[{\"colorbar\":{\"outlinewidth\":0,\"ticks\":\"\"},\"colorscale\":[[0.0,\"#0d0887\"],[0.1111111111111111,\"#46039f\"],[0.2222222222222222,\"#7201a8\"],[0.3333333333333333,\"#9c179e\"],[0.4444444444444444,\"#bd3786\"],[0.5555555555555556,\"#d8576b\"],[0.6666666666666666,\"#ed7953\"],[0.7777777777777778,\"#fb9f3a\"],[0.8888888888888888,\"#fdca26\"],[1.0,\"#f0f921\"]],\"type\":\"surface\"}],\"table\":[{\"cells\":{\"fill\":{\"color\":\"#EBF0F8\"},\"line\":{\"color\":\"white\"}},\"header\":{\"fill\":{\"color\":\"#C8D4E3\"},\"line\":{\"color\":\"white\"}},\"type\":\"table\"}]},\"layout\":{\"annotationdefaults\":{\"arrowcolor\":\"#2a3f5f\",\"arrowhead\":0,\"arrowwidth\":1},\"autotypenumbers\":\"strict\",\"coloraxis\":{\"colorbar\":{\"outlinewidth\":0,\"ticks\":\"\"}},\"colorscale\":{\"diverging\":[[0,\"#8e0152\"],[0.1,\"#c51b7d\"],[0.2,\"#de77ae\"],[0.3,\"#f1b6da\"],[0.4,\"#fde0ef\"],[0.5,\"#f7f7f7\"],[0.6,\"#e6f5d0\"],[0.7,\"#b8e186\"],[0.8,\"#7fbc41\"],[0.9,\"#4d9221\"],[1,\"#276419\"]],\"sequential\":[[0.0,\"#0d0887\"],[0.1111111111111111,\"#46039f\"],[0.2222222222222222,\"#7201a8\"],[0.3333333333333333,\"#9c179e\"],[0.4444444444444444,\"#bd3786\"],[0.5555555555555556,\"#d8576b\"],[0.6666666666666666,\"#ed7953\"],[0.7777777777777778,\"#fb9f3a\"],[0.8888888888888888,\"#fdca26\"],[1.0,\"#f0f921\"]],\"sequentialminus\":[[0.0,\"#0d0887\"],[0.1111111111111111,\"#46039f\"],[0.2222222222222222,\"#7201a8\"],[0.3333333333333333,\"#9c179e\"],[0.4444444444444444,\"#bd3786\"],[0.5555555555555556,\"#d8576b\"],[0.6666666666666666,\"#ed7953\"],[0.7777777777777778,\"#fb9f3a\"],[0.8888888888888888,\"#fdca26\"],[1.0,\"#f0f921\"]]},\"colorway\":[\"#636efa\",\"#EF553B\",\"#00cc96\",\"#ab63fa\",\"#FFA15A\",\"#19d3f3\",\"#FF6692\",\"#B6E880\",\"#FF97FF\",\"#FECB52\"],\"font\":{\"color\":\"#2a3f5f\"},\"geo\":{\"bgcolor\":\"white\",\"lakecolor\":\"white\",\"landcolor\":\"#E5ECF6\",\"showlakes\":true,\"showland\":true,\"subunitcolor\":\"white\"},\"hoverlabel\":{\"align\":\"left\"},\"hovermode\":\"closest\",\"mapbox\":{\"style\":\"light\"},\"paper_bgcolor\":\"white\",\"plot_bgcolor\":\"#E5ECF6\",\"polar\":{\"angularaxis\":{\"gridcolor\":\"white\",\"linecolor\":\"white\",\"ticks\":\"\"},\"bgcolor\":\"#E5ECF6\",\"radialaxis\":{\"gridcolor\":\"white\",\"linecolor\":\"white\",\"ticks\":\"\"}},\"scene\":{\"xaxis\":{\"backgroundcolor\":\"#E5ECF6\",\"gridcolor\":\"white\",\"gridwidth\":2,\"linecolor\":\"white\",\"showbackground\":true,\"ticks\":\"\",\"zerolinecolor\":\"white\"},\"yaxis\":{\"backgroundcolor\":\"#E5ECF6\",\"gridcolor\":\"white\",\"gridwidth\":2,\"linecolor\":\"white\",\"showbackground\":true,\"ticks\":\"\",\"zerolinecolor\":\"white\"},\"zaxis\":{\"backgroundcolor\":\"#E5ECF6\",\"gridcolor\":\"white\",\"gridwidth\":2,\"linecolor\":\"white\",\"showbackground\":true,\"ticks\":\"\",\"zerolinecolor\":\"white\"}},\"shapedefaults\":{\"line\":{\"color\":\"#2a3f5f\"}},\"ternary\":{\"aaxis\":{\"gridcolor\":\"white\",\"linecolor\":\"white\",\"ticks\":\"\"},\"baxis\":{\"gridcolor\":\"white\",\"linecolor\":\"white\",\"ticks\":\"\"},\"bgcolor\":\"#E5ECF6\",\"caxis\":{\"gridcolor\":\"white\",\"linecolor\":\"white\",\"ticks\":\"\"}},\"title\":{\"x\":0.05},\"xaxis\":{\"automargin\":true,\"gridcolor\":\"white\",\"linecolor\":\"white\",\"ticks\":\"\",\"title\":{\"standoff\":15},\"zerolinecolor\":\"white\",\"zerolinewidth\":2},\"yaxis\":{\"automargin\":true,\"gridcolor\":\"white\",\"linecolor\":\"white\",\"ticks\":\"\",\"title\":{\"standoff\":15},\"zerolinecolor\":\"white\",\"zerolinewidth\":2}}},\"legend\":{\"orientation\":\"h\",\"y\":-0.15}},                        {\"responsive\": true}                    ).then(function(){\n",
              "                            \n",
              "var gd = document.getElementById('9c077655-24f2-4519-bfd7-2c09fa54857d');\n",
              "var x = new MutationObserver(function (mutations, observer) {{\n",
              "        var display = window.getComputedStyle(gd).display;\n",
              "        if (!display || display === 'none') {{\n",
              "            console.log([gd, 'removed!']);\n",
              "            Plotly.purge(gd);\n",
              "            observer.disconnect();\n",
              "        }}\n",
              "}});\n",
              "\n",
              "// Listen for the removal of the full notebook cells\n",
              "var notebookContainer = gd.closest('#notebook-container');\n",
              "if (notebookContainer) {{\n",
              "    x.observe(notebookContainer, {childList: true});\n",
              "}}\n",
              "\n",
              "// Listen for the clearing of the current output cell\n",
              "var outputEl = gd.closest('.output');\n",
              "if (outputEl) {{\n",
              "    x.observe(outputEl, {childList: true});\n",
              "}}\n",
              "\n",
              "                        })                };                            </script>        </div>\n",
              "</body>\n",
              "</html>"
            ]
          },
          "metadata": {}
        }
      ]
    },
    {
      "cell_type": "markdown",
      "source": [
        "### **Resultados e discussões**"
      ],
      "metadata": {
        "id": "I7kdOI0j4I7K"
      }
    },
    {
      "cell_type": "markdown",
      "source": [
        "Pode-se observar, como esperado, que o pico dos infectados no caso em que há uma vacina é menor e levemente deslocado para a esquerda em relação ao cenário sem vacina, o que ratifica a eficiência desse modelo, pois através dela, consiguiu-se - nesse cenário - postergar e, principalmente, controlar o surto de casos, fazendo com que menos pessoas sofram com os efeitos da contaminação. É possível observar também que, caso a adesão à vacinação fosse mais efetiva, tanto pela população quanto pelos orgãos governamentais, o pico dos infectados seria menor em realação ao apresentado e, consequentemente, o número de mortos também, comprovando que ela, a vacina, tem um impacto direto na progressão ou regressão da doença e que, por isso, deve-se estimular e ampliar sua adesão. Outrossim, vale ressaltar que essa simulação, leva em conta dados de 1 de janeiro de 2022, é compativel com os dados atuais sobre a progressão da doença e ,conseguiu prever com certa precisão, o cenário atual de acordo com o Monitora Covid em associação com a Fiocruz (5)."
      ],
      "metadata": {
        "id": "U9IWHbLFXkIQ"
      }
    },
    {
      "cell_type": "markdown",
      "source": [
        "### **Conclusão**"
      ],
      "metadata": {
        "id": "rPcAZIV9Xnlf"
      }
    },
    {
      "cell_type": "markdown",
      "source": [
        "Apesar de alguns estudos e vários especialistas apontarem que, do ponto de vista individual, a variante Ômicron é menos letal, do ponto de vista da saúde pública e do atendimento, esse não parece ser o caso. O volume de casos provocado por essa variante é extremamente alto e, mesmo que o percentual de pessoas que necessitem de atendimento especializado seja pequeno frente ao volume extremamente alto de casos, as redes de atendimento acabam sendo ocupadas e, em última análise, a desassistência à saúde ocorre, elevando o número de óbitos. Esse aumento não se assemelha ao de variantes observadas anteriormente, como a Delta na Europa e Gamma no Brasil. No entanto, os números são expressivos, sobretudo quando consideramos que a Covid-19 é, hoje, uma doença previnível do ponto de vista de\n",
        "complicações clínicas, desde que exista uma alta taxa de vacinação na população.\n",
        "\n",
        "A onda de casos da variante Ômicron aparentemente parece ter um comportamento diferente das outras variantes, apresentando um pico acelerado e posteriormente queda acentuada, conferindo alguma imunidade à população que eventualmente tenha tido a infecção. Em pessoas vacinadas e sem complicações prévias, a doença parece seguir um curso mais brando. No entanto, em pessoas não vacinadas e mesmo sem comorbidades ou fatores de risco, essa variante apresenta um risco para internação e óbitos. De forma indireta, a onda de Ômicron valida os efeitos esperados para a vacinação da população.\n",
        "\n",
        "É de extrema importância que se busque maior fomento à vacinação das populações nas diferentes regiões do mundo e dentro do Brasil, para evitar a circulação de forma acelerada do vírus, dificultar o surgimento de novas variantes e aliviar a demanda por atendimento especializado em saúde, sobretudo nos não vacinados, nos que possuem resistência à vacinação por desinformação ou fanatismo seja em ele em qualquer esfera."
      ],
      "metadata": {
        "id": "2ug4GJ9dXrNn"
      }
    },
    {
      "cell_type": "markdown",
      "source": [
        "### **Referências**"
      ],
      "metadata": {
        "id": "_RekwWqrXutY"
      }
    },
    {
      "cell_type": "markdown",
      "source": [
        "(1) https://agenciabrasil.ebc.com.br/internacional/noticia/2022-01/omicron-pode-ser-o-virus-de-mais-rapida-propagacao-da-historia\n",
        "\n",
        "(2) https://portalarquivos2.saude.gov.br/images/pdf/2020/fevereiro/11/protocolo-manejo-coronavirus.pdf\n",
        "\n",
        "(3) https://saude.gov.br/saude-de-a-z/coronavírus\n",
        "\n",
        "(4) Belfin RV, Bródka P, Radhakrishnan BL, Rejula V. 2020. COVID-19 peak estimation and effect of nationwide lockdown in India. medRxiv. 2020.05.09.20095919.\n",
        "\n",
        "(6) https://www.cnnbrasil.com.br/saude/taxa-de-transmissao-da-covid-19-cai-no-brasil-apos-um-mes-e-meio/\n",
        "\n",
        "(5) https://bigdata-covid19.icict.fiocruz.br/\n",
        "\n",
        "(7) https://noticias.r7.com/saude/periodo-medio-de-incubacao-do-coronavirus-e-de-51-dias-10032020\n",
        "\n",
        "(8) https://dados.seplag.pe.gov.br/apps/corona.html\n",
        "\n",
        "https://www.tre-pe.jus.br/imprensa/noticias-tre-pe/2022/Marco/cas-divulga-informacoes-sobre-covid-e-variante-omicron\n",
        "\n",
        "https://especiais.g1.globo.com/bemestar/vacina/2021/mapa-brasil-vacina-covid/"
      ],
      "metadata": {
        "id": "CDSnKjT8XxxA"
      }
    }
  ]
}